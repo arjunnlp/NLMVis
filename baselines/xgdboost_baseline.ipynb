{
 "cells": [
  {
   "cell_type": "code",
   "execution_count": 1,
   "metadata": {
    "_cell_guid": "0e10c6de-685a-4e93-9925-7d73cb27497c",
    "_uuid": "a0f7e95a8994cea779577c48c3d22cde3fdf2cc5",
    "collapsed": true
   },
   "outputs": [
    {
     "data": {
      "text/html": [
       "<div>\n",
       "<style scoped>\n",
       "    .dataframe tbody tr th:only-of-type {\n",
       "        vertical-align: middle;\n",
       "    }\n",
       "\n",
       "    .dataframe tbody tr th {\n",
       "        vertical-align: top;\n",
       "    }\n",
       "\n",
       "    .dataframe thead th {\n",
       "        text-align: right;\n",
       "    }\n",
       "</style>\n",
       "<table border=\"1\" class=\"dataframe\">\n",
       "  <thead>\n",
       "    <tr style=\"text-align: right;\">\n",
       "      <th></th>\n",
       "      <th>label</th>\n",
       "      <th>text</th>\n",
       "      <th>is_valid</th>\n",
       "    </tr>\n",
       "  </thead>\n",
       "  <tbody>\n",
       "    <tr>\n",
       "      <th>0</th>\n",
       "      <td>ISFP</td>\n",
       "      <td>'He sounds like he likes you, if you really wa...</td>\n",
       "      <td>False</td>\n",
       "    </tr>\n",
       "    <tr>\n",
       "      <th>1</th>\n",
       "      <td>INTJ</td>\n",
       "      <td>'I saved a dog's life today in the most cliche...</td>\n",
       "      <td>False</td>\n",
       "    </tr>\n",
       "    <tr>\n",
       "      <th>2</th>\n",
       "      <td>INFP</td>\n",
       "      <td>'https://www.youtube.com/watch?time_continue=2...</td>\n",
       "      <td>False</td>\n",
       "    </tr>\n",
       "    <tr>\n",
       "      <th>3</th>\n",
       "      <td>ENTP</td>\n",
       "      <td>'Tell me about it!!|||When I apologised for up...</td>\n",
       "      <td>True</td>\n",
       "    </tr>\n",
       "    <tr>\n",
       "      <th>4</th>\n",
       "      <td>INTJ</td>\n",
       "      <td>'If you ever meet someone you get along with i...</td>\n",
       "      <td>False</td>\n",
       "    </tr>\n",
       "    <tr>\n",
       "      <th>5</th>\n",
       "      <td>INFJ</td>\n",
       "      <td>'https://i.chzbgr.com/completestore/12/9/12/4J...</td>\n",
       "      <td>True</td>\n",
       "    </tr>\n",
       "    <tr>\n",
       "      <th>6</th>\n",
       "      <td>ISFP</td>\n",
       "      <td>'I'm lovin' this. The live chat is hilarious. ...</td>\n",
       "      <td>False</td>\n",
       "    </tr>\n",
       "    <tr>\n",
       "      <th>7</th>\n",
       "      <td>INFJ</td>\n",
       "      <td>'Not true. I have contacts whom I have contact...</td>\n",
       "      <td>False</td>\n",
       "    </tr>\n",
       "    <tr>\n",
       "      <th>8</th>\n",
       "      <td>INFP</td>\n",
       "      <td>The bulk of humanity is just evil.....I want m...</td>\n",
       "      <td>False</td>\n",
       "    </tr>\n",
       "    <tr>\n",
       "      <th>9</th>\n",
       "      <td>INTP</td>\n",
       "      <td>'keep it coming, people this entp interaction ...</td>\n",
       "      <td>True</td>\n",
       "    </tr>\n",
       "  </tbody>\n",
       "</table>\n",
       "</div>"
      ],
      "text/plain": [
       "  label                                               text  is_valid\n",
       "0  ISFP  'He sounds like he likes you, if you really wa...     False\n",
       "1  INTJ  'I saved a dog's life today in the most cliche...     False\n",
       "2  INFP  'https://www.youtube.com/watch?time_continue=2...     False\n",
       "3  ENTP  'Tell me about it!!|||When I apologised for up...      True\n",
       "4  INTJ  'If you ever meet someone you get along with i...     False\n",
       "5  INFJ  'https://i.chzbgr.com/completestore/12/9/12/4J...      True\n",
       "6  ISFP  'I'm lovin' this. The live chat is hilarious. ...     False\n",
       "7  INFJ  'Not true. I have contacts whom I have contact...     False\n",
       "8  INFP  The bulk of humanity is just evil.....I want m...     False\n",
       "9  INTP  'keep it coming, people this entp interaction ...      True"
      ]
     },
     "execution_count": 1,
     "metadata": {},
     "output_type": "execute_result"
    }
   ],
   "source": [
    "import pandas as pd\n",
    "import numpy as np\n",
    "import re\n",
    "import seaborn as sns\n",
    "import matplotlib.pyplot as plt\n",
    "from numpy import loadtxt\n",
    "from sklearn.metrics import roc_auc_score, roc_auc_score, hamming_loss, accuracy_score \n",
    "%matplotlib inline\n",
    "\n",
    "# read data\n",
    "df = pd.read_parquet('data/mbti_1.pqt')\n",
    "df.head(10)"
   ]
  },
  {
   "cell_type": "code",
   "execution_count": 2,
   "metadata": {
    "_cell_guid": "de987f70-aab9-45f0-958c-e40118a044e1",
    "_uuid": "9ed4e6e21c4ff484425bb8ba73fa901253e78e2c"
   },
   "outputs": [
    {
     "data": {
      "image/png": "[encoded data removed]",
      "text/plain": [
       "<Figure size 864x288 with 1 Axes>"
      ]
     },
     "metadata": {
      "needs_background": "light"
     },
     "output_type": "display_data"
    }
   ],
   "source": [
    "cnt_types = df['label'].value_counts()\n",
    "\n",
    "plt.figure(figsize=(12,4))\n",
    "sns.barplot(cnt_types.index, cnt_types.values, alpha=0.8)\n",
    "plt.ylabel('Number of Occurrences', fontsize=12)\n",
    "plt.xlabel('Types', fontsize=12)\n",
    "plt.show()"
   ]
  },
  {
   "cell_type": "markdown",
   "metadata": {
    "_cell_guid": "85d7b45f-d1bc-4d1e-a179-73bfe427fdd4",
    "_uuid": "f00d268818a332dd819e3eaa54cf1d8bd4523cb5"
   },
   "source": [
    "### Add columns for the type Indicators"
   ]
  },
  {
   "cell_type": "code",
   "execution_count": 3,
   "metadata": {
    "_cell_guid": "94fe02d5-753c-4a2c-bd10-dc3efb44ad80",
    "_uuid": "56607eaad0911f4987c919ca9935203db90550ea"
   },
   "outputs": [
    {
     "data": {
      "text/html": [
       "<div>\n",
       "<style scoped>\n",
       "    .dataframe tbody tr th:only-of-type {\n",
       "        vertical-align: middle;\n",
       "    }\n",
       "\n",
       "    .dataframe tbody tr th {\n",
       "        vertical-align: top;\n",
       "    }\n",
       "\n",
       "    .dataframe thead th {\n",
       "        text-align: right;\n",
       "    }\n",
       "</style>\n",
       "<table border=\"1\" class=\"dataframe\">\n",
       "  <thead>\n",
       "    <tr style=\"text-align: right;\">\n",
       "      <th></th>\n",
       "      <th>label</th>\n",
       "      <th>text</th>\n",
       "      <th>is_valid</th>\n",
       "      <th>IE</th>\n",
       "      <th>NS</th>\n",
       "      <th>TF</th>\n",
       "      <th>JP</th>\n",
       "    </tr>\n",
       "  </thead>\n",
       "  <tbody>\n",
       "    <tr>\n",
       "      <th>0</th>\n",
       "      <td>ISFP</td>\n",
       "      <td>'He sounds like he likes you, if you really wa...</td>\n",
       "      <td>False</td>\n",
       "      <td>1</td>\n",
       "      <td>0</td>\n",
       "      <td>0</td>\n",
       "      <td>0</td>\n",
       "    </tr>\n",
       "    <tr>\n",
       "      <th>1</th>\n",
       "      <td>INTJ</td>\n",
       "      <td>'I saved a dog's life today in the most cliche...</td>\n",
       "      <td>False</td>\n",
       "      <td>1</td>\n",
       "      <td>1</td>\n",
       "      <td>1</td>\n",
       "      <td>1</td>\n",
       "    </tr>\n",
       "    <tr>\n",
       "      <th>2</th>\n",
       "      <td>INFP</td>\n",
       "      <td>'https://www.youtube.com/watch?time_continue=2...</td>\n",
       "      <td>False</td>\n",
       "      <td>1</td>\n",
       "      <td>1</td>\n",
       "      <td>0</td>\n",
       "      <td>0</td>\n",
       "    </tr>\n",
       "    <tr>\n",
       "      <th>3</th>\n",
       "      <td>ENTP</td>\n",
       "      <td>'Tell me about it!!|||When I apologised for up...</td>\n",
       "      <td>True</td>\n",
       "      <td>0</td>\n",
       "      <td>1</td>\n",
       "      <td>1</td>\n",
       "      <td>0</td>\n",
       "    </tr>\n",
       "    <tr>\n",
       "      <th>4</th>\n",
       "      <td>INTJ</td>\n",
       "      <td>'If you ever meet someone you get along with i...</td>\n",
       "      <td>False</td>\n",
       "      <td>1</td>\n",
       "      <td>1</td>\n",
       "      <td>1</td>\n",
       "      <td>1</td>\n",
       "    </tr>\n",
       "  </tbody>\n",
       "</table>\n",
       "</div>"
      ],
      "text/plain": [
       "  label                                               text  is_valid  IE  NS  \\\n",
       "0  ISFP  'He sounds like he likes you, if you really wa...     False   1   0   \n",
       "1  INTJ  'I saved a dog's life today in the most cliche...     False   1   1   \n",
       "2  INFP  'https://www.youtube.com/watch?time_continue=2...     False   1   1   \n",
       "3  ENTP  'Tell me about it!!|||When I apologised for up...      True   0   1   \n",
       "4  INTJ  'If you ever meet someone you get along with i...     False   1   1   \n",
       "\n",
       "   TF  JP  \n",
       "0   0   0  \n",
       "1   1   1  \n",
       "2   0   0  \n",
       "3   1   0  \n",
       "4   1   1  "
      ]
     },
     "execution_count": 3,
     "metadata": {},
     "output_type": "execute_result"
    }
   ],
   "source": [
    "type_indicators = [ \"IE: Introversion (I) / Extroversion (E)\", \"NS: Intuition (N) / Sensing (S)\", \n",
    "                   \"FT: Feeling (F) / Thinking (T)\", \"JP: Judging (J) / Perceiving (P)\"  ]\n",
    "\n",
    "def get_types(row):\n",
    "    t=row['label']\n",
    "\n",
    "    I = 0; N = 0\n",
    "    T = 0; J = 0\n",
    "    \n",
    "    if t[0] == 'I': I = 1\n",
    "    elif t[0] == 'E': I = 0\n",
    "    else: print('I-E incorrect')\n",
    "        \n",
    "    if t[1] == 'N': N = 1\n",
    "    elif t[1] == 'S': N = 0\n",
    "    else: print('N-S incorrect')\n",
    "        \n",
    "    if t[2] == 'T': T = 1\n",
    "    elif t[2] == 'F': T = 0\n",
    "    else: print('T-F incorrect')\n",
    "        \n",
    "    if t[3] == 'J': J = 1\n",
    "    elif t[3] == 'P': J = 0\n",
    "    else: print('J-P incorrect')\n",
    "    return pd.Series( {'IE':I, 'NS':N , 'TF': T, 'JP': J }) \n",
    "\n",
    "df = df.join(df.apply (lambda row: get_types (row),axis=1))\n",
    "df.head(5)"
   ]
  },
  {
   "cell_type": "code",
   "execution_count": 4,
   "metadata": {
    "_cell_guid": "f64d512c-d2b2-4494-832b-79c32eeba584",
    "_uuid": "cb604f55d0de8d78f8f8739673661eb2c9976303"
   },
   "outputs": [
    {
     "name": "stdout",
     "output_type": "stream",
     "text": [
      "Introversion (I) vs  Extroversion (E):\t 1999  /  6676\n",
      "Intuition (N) vs Sensing (S):\t\t 1197  /  7478\n",
      "Thinking (T) vs Feeling (F):\t\t 4694  /  3981\n",
      "Judging (J) vs Perceiving (P):\t\t 5241  /  3434\n"
     ]
    }
   ],
   "source": [
    "print (\"Introversion (I) vs  Extroversion (E):\\t\", df['IE'].value_counts()[0], \" / \", df['IE'].value_counts()[1])\n",
    "print (\"Intuition (N) vs Sensing (S):\\t\\t\", df['NS'].value_counts()[0], \" / \", df['NS'].value_counts()[1])\n",
    "print (\"Thinking (T) vs Feeling (F):\\t\\t\", df['TF'].value_counts()[0], \" / \", df['TF'].value_counts()[1])\n",
    "print (\"Judging (J) vs Perceiving (P):\\t\\t\", df['JP'].value_counts()[0], \" / \", df['JP'].value_counts()[1])"
   ]
  },
  {
   "cell_type": "code",
   "execution_count": 5,
   "metadata": {
    "_cell_guid": "106d4032-2cb6-424e-95af-ee73643c4ea9",
    "_uuid": "71300a00fb90466c0fe86e131d0f1dc158cb4765"
   },
   "outputs": [
    {
     "data": {
      "image/png": "[encoded data removed]",
      "text/plain": [
       "<Figure size 432x288 with 1 Axes>"
      ]
     },
     "metadata": {
      "needs_background": "light"
     },
     "output_type": "display_data"
    }
   ],
   "source": [
    "N = 4\n",
    "but = (df['IE'].value_counts()[0], df['NS'].value_counts()[0], df['TF'].value_counts()[0], df['JP'].value_counts()[0])\n",
    "top = (df['IE'].value_counts()[1], df['NS'].value_counts()[1], df['TF'].value_counts()[1], df['JP'].value_counts()[1])\n",
    "\n",
    "ind = np.arange(N)    # the x locations for the groups\n",
    "width = 0.7      # the width of the bars: can also be len(x) sequence\n",
    "\n",
    "p1 = plt.bar(ind, but, width)\n",
    "p2 = plt.bar(ind, top, width, bottom=but)\n",
    "\n",
    "plt.ylabel('Count')\n",
    "plt.title('Distribution accoss types indicators')\n",
    "plt.xticks(ind, ('I/E',  'N/S', 'T/F', 'J/P',))\n",
    "\n",
    "plt.show()"
   ]
  },
  {
   "cell_type": "code",
   "execution_count": 6,
   "metadata": {
    "_cell_guid": "8ab0a44e-70c7-4876-aa9c-fd6a552ecf94",
    "_uuid": "5c0185231d1dec0773ac8574677dec7a641d5409"
   },
   "outputs": [
    {
     "name": "stdout",
     "output_type": "stream",
     "text": [
      "Binarize MBTI list: \n",
      "[[0 1 0 1]\n",
      " [0 0 1 0]\n",
      " [0 0 0 1]\n",
      " [1 0 1 1]]\n"
     ]
    }
   ],
   "source": [
    "b_Pers = {'I':0, 'E':1, 'N':0, 'S':1, 'F':0, 'T':1, 'J':0, 'P':1}\n",
    "b_Pers_list = [{0:'I', 1:'E'}, {0:'N', 1:'S'}, {0:'F', 1:'T'}, {0:'J', 1:'P'}]\n",
    "\n",
    "def translate_personality(personality):\n",
    "    # transform mbti to binary vector\n",
    "    \n",
    "    return [b_Pers[l] for l in personality]\n",
    "\n",
    "def translate_back(personality):\n",
    "    # transform binary vector to mbti personality\n",
    "    \n",
    "    s = \"\"\n",
    "    for i, l in enumerate(personality):\n",
    "        s += b_Pers_list[i][l]\n",
    "    return s\n",
    "\n",
    "# Check ...\n",
    "d = df.head(4)\n",
    "list_personality_bin = np.array([translate_personality(p) for p in d.label])\n",
    "print(\"Binarize MBTI list: \\n%s\" % list_personality_bin)\n"
   ]
  },
  {
   "cell_type": "markdown",
   "metadata": {
    "_cell_guid": "0cb4844b-3205-4eed-9af5-949c79de3fcd",
    "_uuid": "e3d320caec234f9b36f1eb5221764f94b73ec608"
   },
   "source": [
    "### Preprocessing posts\n",
    "* Remove urls \n",
    "* Keep only words and put everything lowercase\n",
    "* Lemmatize each word \n",
    "* __Remove MBTI profiles strings. Too many appear in the posts!__"
   ]
  },
  {
   "cell_type": "code",
   "execution_count": 7,
   "metadata": {
    "_cell_guid": "e1421b79-1fa2-4a4a-bccf-e234223a9bd6",
    "_uuid": "77420dbbc4a8f7ff8984f342562b505571dfe677",
    "collapsed": true
   },
   "outputs": [],
   "source": [
    "##### Compute list of subject with Type | list of comments \n",
    "from nltk.stem import PorterStemmer, WordNetLemmatizer\n",
    "from nltk.corpus import stopwords \n",
    "from nltk import word_tokenize\n",
    "\n",
    "# We want to remove these from the psosts\n",
    "unique_type_list = ['INFJ', 'ENTP', 'INTP', 'INTJ', 'ENTJ', 'ENFJ', 'INFP', 'ENFP',\n",
    "       'ISFP', 'ISTP', 'ISFJ', 'ISTJ', 'ESTP', 'ESFP', 'ESTJ', 'ESFJ']\n",
    "  \n",
    "unique_type_list = [x.lower() for x in unique_type_list]\n",
    "\n",
    "\n",
    "# Lemmatize\n",
    "stemmer = PorterStemmer()\n",
    "lemmatiser = WordNetLemmatizer()\n",
    "\n",
    "# Cache the stop words for speed \n",
    "cachedStopWords = stopwords.words(\"english\")\n",
    "\n",
    "def pre_process_data(data, remove_stop_words=True, remove_mbti_profiles=True):\n",
    "\n",
    "    list_personality = []\n",
    "    list_posts = []\n",
    "    len_data = len(data)\n",
    "    i=0\n",
    "    is_valid = []\n",
    "    \n",
    "    for row in data.iterrows():\n",
    "        i+=1\n",
    "        if (i % 500 == 0 or i == 1 or i == len_data):\n",
    "            print(\"%s of %s rows\" % (i, len_data))\n",
    "\n",
    "        ##### Remove and clean comments\n",
    "        posts = row[1].text\n",
    "        temp = re.sub('http[s]?://(?:[a-zA-Z]|[0-9]|[$-_@.&+]|(?:%[0-9a-fA-F][0-9a-fA-F]))+', ' ', posts)\n",
    "        temp = re.sub(\"[^a-zA-Z]\", \" \", temp)\n",
    "        temp = re.sub(' +', ' ', temp).lower()\n",
    "        if remove_stop_words:\n",
    "            temp = \" \".join([lemmatiser.lemmatize(w) for w in temp.split(' ') if w not in cachedStopWords])\n",
    "        else:\n",
    "            temp = \" \".join([lemmatiser.lemmatize(w) for w in temp.split(' ')])\n",
    "            \n",
    "        if remove_mbti_profiles:\n",
    "            for t in unique_type_list:\n",
    "                temp = temp.replace(t,\"\")\n",
    "\n",
    "        type_labelized = translate_personality(row[1].label)\n",
    "        list_personality.append(type_labelized)\n",
    "        list_posts.append(temp)\n",
    "\n",
    "    list_posts = np.array(list_posts)\n",
    "    list_personality = np.array(list_personality)\n",
    "\n",
    "    return list_posts, list_personality"
   ]
  },
  {
   "cell_type": "code",
   "execution_count": 8,
   "metadata": {
    "_cell_guid": "44464e11-d570-4a70-8044-e4631917c89e",
    "_uuid": "501d30b844b84cd6e1fa54545b792183b73b0b51"
   },
   "outputs": [
    {
     "name": "stdout",
     "output_type": "stream",
     "text": [
      "1 of 6940 rows\n",
      "500 of 6940 rows\n",
      "1000 of 6940 rows\n",
      "1500 of 6940 rows\n",
      "2000 of 6940 rows\n",
      "2500 of 6940 rows\n",
      "3000 of 6940 rows\n",
      "3500 of 6940 rows\n",
      "4000 of 6940 rows\n",
      "4500 of 6940 rows\n",
      "5000 of 6940 rows\n",
      "5500 of 6940 rows\n",
      "6000 of 6940 rows\n",
      "6500 of 6940 rows\n",
      "6940 of 6940 rows\n",
      "1 of 1735 rows\n",
      "500 of 1735 rows\n",
      "1000 of 1735 rows\n",
      "1500 of 1735 rows\n",
      "1735 of 1735 rows\n",
      "Num posts and personalities train:  (6940,) (6940, 4)\n",
      "Num posts and personalities test:  (1735,) (1735, 4)\n"
     ]
    }
   ],
   "source": [
    "train = df[df['is_valid'] == False]\n",
    "test = df[df['is_valid'] == True]\n",
    "\n",
    "X_train, y_train  = pre_process_data(train, remove_stop_words=True)\n",
    "X_test, y_test  = pre_process_data(test, remove_stop_words=True)\n",
    "print(\"Num posts and personalities train: \",  X_train.shape, y_train.shape)\n",
    "print(\"Num posts and personalities test: \",  X_test.shape, y_test.shape)"
   ]
  },
  {
   "cell_type": "markdown",
   "metadata": {
    "_cell_guid": "c4c7a734-bffc-44dd-81b8-865b7161cd53",
    "_uuid": "2e834d2d4594b7b9e200784033b15b94d02afb54"
   },
   "source": [
    "### Vectorize with count and tf-idf\n",
    "\n",
    "Keep words appearing in 10% to 70 % of the posts."
   ]
  },
  {
   "cell_type": "code",
   "execution_count": 9,
   "metadata": {
    "_cell_guid": "fe473d3a-9f1d-48b0-8d97-0ff576ad4f10",
    "_uuid": "86f08653912e5643b959751ea17b794e4d3cbcdc"
   },
   "outputs": [
    {
     "name": "stdout",
     "output_type": "stream",
     "text": [
      "CountVectorizer...\n",
      "Tf-idf...\n",
      "MBTI 1st row: ISFP\n",
      "Y: Binarized MBTI 1st row: [0 1 0 1]\n"
     ]
    },
    {
     "data": {
      "text/plain": [
       "[(0, 'ability'),\n",
       " (1, 'able'),\n",
       " (2, 'absolutely'),\n",
       " (3, 'accept'),\n",
       " (4, 'accurate'),\n",
       " (5, 'across'),\n",
       " (6, 'act'),\n",
       " (7, 'action'),\n",
       " (8, 'actual'),\n",
       " (9, 'actually')]"
      ]
     },
     "execution_count": 9,
     "metadata": {},
     "output_type": "execute_result"
    }
   ],
   "source": [
    "from sklearn.feature_extraction.text import TfidfTransformer\n",
    "from sklearn.feature_extraction.text import CountVectorizer\n",
    "from sklearn.manifold import TSNE\n",
    "\n",
    "# Posts to a matrix of token counts\n",
    "cntizer = CountVectorizer(analyzer=\"word\", \n",
    "                             max_features=1500, \n",
    "                             tokenizer=None,    \n",
    "                             preprocessor=None, \n",
    "                             stop_words=None,  \n",
    "                             max_df=0.7,\n",
    "                             min_df=0.1) \n",
    "\n",
    "# Learn the vocabulary dictionary and return term-document matrix\n",
    "print(\"CountVectorizer...\")\n",
    "X_train = cntizer.fit_transform(X_train)\n",
    "X_test = cntizer.transform(X_test)\n",
    "# Transform the count matrix to a normalized tf or tf-idf representation\n",
    "tfizer = TfidfTransformer()\n",
    "\n",
    "print(\"Tf-idf...\")\n",
    "# Learn the idf vector (fit) and transform a count matrix to a tf-idf representation\n",
    "X_train =  tfizer.fit_transform(X_train).toarray()\n",
    "X_test =  tfizer.transform(X_test).toarray()\n",
    "print(\"MBTI 1st row: %s\" % translate_back(y_train[0,:]))\n",
    "print(\"Y: Binarized MBTI 1st row: %s\" % y_train[0,:])\n",
    "feature_names = list(enumerate(cntizer.get_feature_names()))\n",
    "feature_names[:10]"
   ]
  },
  {
   "cell_type": "markdown",
   "metadata": {},
   "source": [
    "## Linear SVM"
   ]
  },
  {
   "cell_type": "code",
   "execution_count": 10,
   "metadata": {},
   "outputs": [
    {
     "name": "stdout",
     "output_type": "stream",
     "text": [
      "accuracy_score 0.3319884726224784 \n",
      " roc_auc_score 0.6007018964536487 \n",
      " hamming_loss 0.2404899135446686\n"
     ]
    }
   ],
   "source": [
    "from sklearn.multiclass import OneVsRestClassifier\n",
    "from sklearn.svm import SVC\n",
    "\n",
    "classif = OneVsRestClassifier(SVC(kernel='linear'))\n",
    "classif.fit(X_train, y_train)\n",
    "y = classif.predict(X_test)\n",
    "print('accuracy_score', accuracy_score(y_test, y), '\\n',\n",
    "      'roc_auc_score', roc_auc_score(y_test, y), '\\n',\n",
    "      'hamming_loss', hamming_loss(y_test, y))"
   ]
  },
  {
   "cell_type": "markdown",
   "metadata": {
    "_cell_guid": "1ed7e296-7741-457c-89d6-091f7de0cb93",
    "_uuid": "7d5d28276fbe18fe0eb02af1d00ebfddec43bb29"
   },
   "source": [
    "## First XGBoost model for MBTI dataset\n"
   ]
  },
  {
   "cell_type": "code",
   "execution_count": 18,
   "metadata": {
    "_cell_guid": "dbbed077-130a-4860-b0bd-80f328611bd4",
    "_uuid": "76dd80d8b1ab630afde0a0a86b3fac5aa6c2c366"
   },
   "outputs": [
    {
     "name": "stdout",
     "output_type": "stream",
     "text": [
      "IE: Introversion (I) / Extroversion (E) ...\n",
      "* IE: Introversion (I) / Extroversion (E) Accuracy: 77.41%\n",
      "NS: Intuition (N) / Sensing (S) ...\n",
      "* NS: Intuition (N) / Sensing (S) Accuracy: 85.53%\n",
      "FT: Feeling (F) / Thinking (T) ...\n",
      "* FT: Feeling (F) / Thinking (T) Accuracy: 71.53%\n",
      "JP: Judging (J) / Perceiving (P) ...\n",
      "* JP: Judging (J) / Perceiving (P) Accuracy: 66.80%\n"
     ]
    }
   ],
   "source": [
    "# First XGBoost model for MBTI dataset\n",
    "\n",
    "from xgboost import XGBClassifier\n",
    "\n",
    "y = np.zeros(y_test.shape)\n",
    "# Let's train type indicator individually\n",
    "for l in range(len(type_indicators)):\n",
    "    print(\"%s ...\" % (type_indicators[l]))\n",
    "    \n",
    "\n",
    "    # fit model on training data\n",
    "    model = XGBClassifier()\n",
    "    model.fit(X_train, y_train[:,l])\n",
    "\n",
    "    # make predictions for test data\n",
    "    y_pred = model.predict(X_test)\n",
    "    y[:,l] = [round(value) for value in y_pred]\n",
    "    accuracy = accuracy_score(y_test[:,l], y[:,l])\n",
    "    print(\"* %s Accuracy: %.2f%%\" % (type_indicators[l], accuracy * 100.0))\n",
    "\n"
   ]
  },
  {
   "cell_type": "code",
   "execution_count": 33,
   "metadata": {},
   "outputs": [
    {
     "name": "stdout",
     "output_type": "stream",
     "text": [
      "accuracy_score 0.31873198847262246 \n",
      " roc_auc_score 0.5854794600211746 \n",
      " hamming_loss 0.2468299711815562\n"
     ]
    }
   ],
   "source": [
    "print('accuracy_score', accuracy_score(y_test, y), '\\n',\n",
    "      'roc_auc_score', roc_auc_score(y_test, y), '\\n',\n",
    "      'hamming_loss', hamming_loss(y_test, y))"
   ]
  },
  {
   "cell_type": "markdown",
   "metadata": {
    "_cell_guid": "ff11f94b-a58a-4e6f-a106-7c7dc4065e79",
    "_uuid": "ac88eefd05911a98c832e78cbfcbc984b2a4fe8b"
   },
   "source": [
    "## Monitor Performance and Early Stopping\n",
    "\n",
    "*\"XGBoost model can evaluate and report on the performance on a test set for the model during training. It supports this capability by specifying both a test dataset and an evaluation metric on the call to model.fit() when training the model and specifying verbose output (verbose=True). For example, we can report on the binary classification error rate (error) on a standalone test set (eval_set) while training an XGBoost model.\" [[1]](https://machinelearningmastery.com/xgboost-python-mini-course/)*"
   ]
  },
  {
   "cell_type": "code",
   "execution_count": 23,
   "metadata": {
    "_cell_guid": "19b328df-febe-446d-bcc9-fa6d90bae18e",
    "_uuid": "f73f66f97981081ce06a2b5ad4b9a5c0a438fe1e"
   },
   "outputs": [
    {
     "name": "stdout",
     "output_type": "stream",
     "text": [
      "IE: Introversion (I) / Extroversion (E) ...\n",
      "[0]\tvalidation_0-logloss:0.662331\n",
      "Will train until validation_0-logloss hasn't improved in 10 rounds.\n",
      "[1]\tvalidation_0-logloss:0.637307\n",
      "[2]\tvalidation_0-logloss:0.616979\n",
      "[3]\tvalidation_0-logloss:0.600483\n",
      "[4]\tvalidation_0-logloss:0.585568\n",
      "[5]\tvalidation_0-logloss:0.573552\n",
      "[6]\tvalidation_0-logloss:0.564016\n",
      "[7]\tvalidation_0-logloss:0.555667\n",
      "[8]\tvalidation_0-logloss:0.548621\n",
      "[9]\tvalidation_0-logloss:0.542487\n",
      "[10]\tvalidation_0-logloss:0.537856\n",
      "[11]\tvalidation_0-logloss:0.533571\n",
      "[12]\tvalidation_0-logloss:0.529929\n",
      "[13]\tvalidation_0-logloss:0.526731\n",
      "[14]\tvalidation_0-logloss:0.523933\n",
      "[15]\tvalidation_0-logloss:0.521377\n",
      "[16]\tvalidation_0-logloss:0.519125\n",
      "[17]\tvalidation_0-logloss:0.517464\n",
      "[18]\tvalidation_0-logloss:0.515545\n",
      "[19]\tvalidation_0-logloss:0.514147\n",
      "[20]\tvalidation_0-logloss:0.512725\n",
      "[21]\tvalidation_0-logloss:0.511898\n",
      "[22]\tvalidation_0-logloss:0.510745\n",
      "[23]\tvalidation_0-logloss:0.50952\n",
      "[24]\tvalidation_0-logloss:0.508703\n",
      "[25]\tvalidation_0-logloss:0.507359\n",
      "[26]\tvalidation_0-logloss:0.506698\n",
      "[27]\tvalidation_0-logloss:0.506086\n",
      "[28]\tvalidation_0-logloss:0.505835\n",
      "[29]\tvalidation_0-logloss:0.505516\n",
      "[30]\tvalidation_0-logloss:0.505105\n",
      "[31]\tvalidation_0-logloss:0.504036\n",
      "[32]\tvalidation_0-logloss:0.503469\n",
      "[33]\tvalidation_0-logloss:0.502987\n",
      "[34]\tvalidation_0-logloss:0.502913\n",
      "[35]\tvalidation_0-logloss:0.502389\n",
      "[36]\tvalidation_0-logloss:0.502183\n",
      "[37]\tvalidation_0-logloss:0.502166\n",
      "[38]\tvalidation_0-logloss:0.501472\n",
      "[39]\tvalidation_0-logloss:0.501143\n",
      "[40]\tvalidation_0-logloss:0.50078\n",
      "[41]\tvalidation_0-logloss:0.500258\n",
      "[42]\tvalidation_0-logloss:0.500416\n",
      "[43]\tvalidation_0-logloss:0.500031\n",
      "[44]\tvalidation_0-logloss:0.499597\n",
      "[45]\tvalidation_0-logloss:0.499505\n",
      "[46]\tvalidation_0-logloss:0.499337\n",
      "[47]\tvalidation_0-logloss:0.498855\n",
      "[48]\tvalidation_0-logloss:0.498814\n",
      "[49]\tvalidation_0-logloss:0.49901\n",
      "[50]\tvalidation_0-logloss:0.498675\n",
      "[51]\tvalidation_0-logloss:0.497657\n",
      "[52]\tvalidation_0-logloss:0.496876\n",
      "[53]\tvalidation_0-logloss:0.49647\n",
      "[54]\tvalidation_0-logloss:0.496392\n",
      "[55]\tvalidation_0-logloss:0.496134\n",
      "[56]\tvalidation_0-logloss:0.496373\n",
      "[57]\tvalidation_0-logloss:0.496297\n",
      "[58]\tvalidation_0-logloss:0.496108\n",
      "[59]\tvalidation_0-logloss:0.4962\n",
      "[60]\tvalidation_0-logloss:0.496157\n",
      "[61]\tvalidation_0-logloss:0.496195\n",
      "[62]\tvalidation_0-logloss:0.496264\n",
      "[63]\tvalidation_0-logloss:0.495954\n",
      "[64]\tvalidation_0-logloss:0.495514\n",
      "[65]\tvalidation_0-logloss:0.494948\n",
      "[66]\tvalidation_0-logloss:0.494729\n",
      "[67]\tvalidation_0-logloss:0.494131\n",
      "[68]\tvalidation_0-logloss:0.494178\n",
      "[69]\tvalidation_0-logloss:0.493897\n",
      "[70]\tvalidation_0-logloss:0.493791\n",
      "[71]\tvalidation_0-logloss:0.493636\n",
      "[72]\tvalidation_0-logloss:0.493911\n",
      "[73]\tvalidation_0-logloss:0.49372\n",
      "[74]\tvalidation_0-logloss:0.493793\n",
      "[75]\tvalidation_0-logloss:0.49375\n",
      "[76]\tvalidation_0-logloss:0.493721\n",
      "[77]\tvalidation_0-logloss:0.493469\n",
      "[78]\tvalidation_0-logloss:0.493487\n",
      "[79]\tvalidation_0-logloss:0.493669\n",
      "[80]\tvalidation_0-logloss:0.493513\n",
      "[81]\tvalidation_0-logloss:0.493183\n",
      "[82]\tvalidation_0-logloss:0.492905\n",
      "[83]\tvalidation_0-logloss:0.492902\n",
      "[84]\tvalidation_0-logloss:0.493104\n",
      "[85]\tvalidation_0-logloss:0.492952\n",
      "[86]\tvalidation_0-logloss:0.492803\n",
      "[87]\tvalidation_0-logloss:0.492743\n",
      "[88]\tvalidation_0-logloss:0.492444\n",
      "[89]\tvalidation_0-logloss:0.492691\n",
      "[90]\tvalidation_0-logloss:0.492886\n",
      "[91]\tvalidation_0-logloss:0.492851\n",
      "[92]\tvalidation_0-logloss:0.492552\n",
      "[93]\tvalidation_0-logloss:0.492387\n",
      "[94]\tvalidation_0-logloss:0.492318\n",
      "[95]\tvalidation_0-logloss:0.492264\n",
      "[96]\tvalidation_0-logloss:0.491934\n",
      "[97]\tvalidation_0-logloss:0.491976\n",
      "[98]\tvalidation_0-logloss:0.491831\n",
      "[99]\tvalidation_0-logloss:0.49177\n",
      "* IE: Introversion (I) / Extroversion (E) Accuracy: 78.17%\n",
      "NS: Intuition (N) – Sensing (S) ...\n",
      "[0]\tvalidation_0-logloss:0.642716\n",
      "Will train until validation_0-logloss hasn't improved in 10 rounds.\n",
      "[1]\tvalidation_0-logloss:0.601877\n",
      "[2]\tvalidation_0-logloss:0.568292\n",
      "[3]\tvalidation_0-logloss:0.539853\n",
      "[4]\tvalidation_0-logloss:0.516771\n",
      "[5]\tvalidation_0-logloss:0.496993\n",
      "[6]\tvalidation_0-logloss:0.480349\n",
      "[7]\tvalidation_0-logloss:0.466714\n",
      "[8]\tvalidation_0-logloss:0.455063\n",
      "[9]\tvalidation_0-logloss:0.445316\n",
      "[10]\tvalidation_0-logloss:0.436429\n",
      "[11]\tvalidation_0-logloss:0.429075\n",
      "[12]\tvalidation_0-logloss:0.422888\n",
      "[13]\tvalidation_0-logloss:0.417625\n",
      "[14]\tvalidation_0-logloss:0.413451\n",
      "[15]\tvalidation_0-logloss:0.40995\n",
      "[16]\tvalidation_0-logloss:0.406622\n",
      "[17]\tvalidation_0-logloss:0.403839\n",
      "[18]\tvalidation_0-logloss:0.401645\n",
      "[19]\tvalidation_0-logloss:0.399954\n",
      "[20]\tvalidation_0-logloss:0.398226\n",
      "[21]\tvalidation_0-logloss:0.396559\n",
      "[22]\tvalidation_0-logloss:0.395626\n",
      "[23]\tvalidation_0-logloss:0.394387\n",
      "[24]\tvalidation_0-logloss:0.393097\n",
      "[25]\tvalidation_0-logloss:0.392313\n",
      "[26]\tvalidation_0-logloss:0.391855\n",
      "[27]\tvalidation_0-logloss:0.390801\n",
      "[28]\tvalidation_0-logloss:0.39043\n",
      "[29]\tvalidation_0-logloss:0.389749\n",
      "[30]\tvalidation_0-logloss:0.389319\n",
      "[31]\tvalidation_0-logloss:0.38867\n",
      "[32]\tvalidation_0-logloss:0.388634\n",
      "[33]\tvalidation_0-logloss:0.388633\n",
      "[34]\tvalidation_0-logloss:0.388568\n",
      "[35]\tvalidation_0-logloss:0.388837\n",
      "[36]\tvalidation_0-logloss:0.388408\n",
      "[37]\tvalidation_0-logloss:0.388062\n",
      "[38]\tvalidation_0-logloss:0.387969\n",
      "[39]\tvalidation_0-logloss:0.387252\n",
      "[40]\tvalidation_0-logloss:0.386903\n",
      "[41]\tvalidation_0-logloss:0.386681\n",
      "[42]\tvalidation_0-logloss:0.38598\n",
      "[43]\tvalidation_0-logloss:0.385785\n",
      "[44]\tvalidation_0-logloss:0.385584\n",
      "[45]\tvalidation_0-logloss:0.385342\n",
      "[46]\tvalidation_0-logloss:0.385685\n",
      "[47]\tvalidation_0-logloss:0.385638\n",
      "[48]\tvalidation_0-logloss:0.385243\n",
      "[49]\tvalidation_0-logloss:0.385053\n",
      "[50]\tvalidation_0-logloss:0.384401\n",
      "[51]\tvalidation_0-logloss:0.384228\n",
      "[52]\tvalidation_0-logloss:0.383847\n",
      "[53]\tvalidation_0-logloss:0.383778\n",
      "[54]\tvalidation_0-logloss:0.383628\n",
      "[55]\tvalidation_0-logloss:0.383116\n",
      "[56]\tvalidation_0-logloss:0.382786\n",
      "[57]\tvalidation_0-logloss:0.382525\n",
      "[58]\tvalidation_0-logloss:0.382335\n",
      "[59]\tvalidation_0-logloss:0.382673\n",
      "[60]\tvalidation_0-logloss:0.382593\n",
      "[61]\tvalidation_0-logloss:0.382428\n",
      "[62]\tvalidation_0-logloss:0.382455\n",
      "[63]\tvalidation_0-logloss:0.382538\n",
      "[64]\tvalidation_0-logloss:0.382055\n",
      "[65]\tvalidation_0-logloss:0.381827\n",
      "[66]\tvalidation_0-logloss:0.381808\n",
      "[67]\tvalidation_0-logloss:0.381119\n",
      "[68]\tvalidation_0-logloss:0.381123\n",
      "[69]\tvalidation_0-logloss:0.381139\n",
      "[70]\tvalidation_0-logloss:0.380914\n",
      "[71]\tvalidation_0-logloss:0.380297\n",
      "[72]\tvalidation_0-logloss:0.380105\n",
      "[73]\tvalidation_0-logloss:0.379771\n",
      "[74]\tvalidation_0-logloss:0.379409\n",
      "[75]\tvalidation_0-logloss:0.379249\n",
      "[76]\tvalidation_0-logloss:0.379398\n",
      "[77]\tvalidation_0-logloss:0.379163\n",
      "[78]\tvalidation_0-logloss:0.378979\n",
      "[79]\tvalidation_0-logloss:0.378869\n",
      "[80]\tvalidation_0-logloss:0.378721\n",
      "[81]\tvalidation_0-logloss:0.378601\n",
      "[82]\tvalidation_0-logloss:0.378587\n",
      "[83]\tvalidation_0-logloss:0.378611\n",
      "[84]\tvalidation_0-logloss:0.378436\n",
      "[85]\tvalidation_0-logloss:0.378543\n",
      "[86]\tvalidation_0-logloss:0.378326\n",
      "[87]\tvalidation_0-logloss:0.378266\n",
      "[88]\tvalidation_0-logloss:0.378109\n",
      "[89]\tvalidation_0-logloss:0.378001\n",
      "[90]\tvalidation_0-logloss:0.377905\n",
      "[91]\tvalidation_0-logloss:0.377785\n",
      "[92]\tvalidation_0-logloss:0.377809\n",
      "[93]\tvalidation_0-logloss:0.37765\n",
      "[94]\tvalidation_0-logloss:0.377315\n",
      "[95]\tvalidation_0-logloss:0.377255\n",
      "[96]\tvalidation_0-logloss:0.377561\n",
      "[97]\tvalidation_0-logloss:0.377475\n",
      "[98]\tvalidation_0-logloss:0.377422\n",
      "[99]\tvalidation_0-logloss:0.377514\n",
      "* NS: Intuition (N) – Sensing (S) Accuracy: 86.06%\n",
      "FT: Feeling (F) - Thinking (T) ...\n",
      "[0]\tvalidation_0-logloss:0.686987\n",
      "Will train until validation_0-logloss hasn't improved in 10 rounds.\n",
      "[1]\tvalidation_0-logloss:0.680877\n",
      "[2]\tvalidation_0-logloss:0.676442\n",
      "[3]\tvalidation_0-logloss:0.672399\n",
      "[4]\tvalidation_0-logloss:0.667744\n",
      "[5]\tvalidation_0-logloss:0.663266\n",
      "[6]\tvalidation_0-logloss:0.660067\n",
      "[7]\tvalidation_0-logloss:0.656578\n",
      "[8]\tvalidation_0-logloss:0.653645\n",
      "[9]\tvalidation_0-logloss:0.650405\n",
      "[10]\tvalidation_0-logloss:0.647306\n",
      "[11]\tvalidation_0-logloss:0.644039\n",
      "[12]\tvalidation_0-logloss:0.641585\n",
      "[13]\tvalidation_0-logloss:0.638323\n",
      "[14]\tvalidation_0-logloss:0.635639\n",
      "[15]\tvalidation_0-logloss:0.633524\n",
      "[16]\tvalidation_0-logloss:0.631807\n",
      "[17]\tvalidation_0-logloss:0.630128\n",
      "[18]\tvalidation_0-logloss:0.627787\n",
      "[19]\tvalidation_0-logloss:0.62606\n",
      "[20]\tvalidation_0-logloss:0.624538\n",
      "[21]\tvalidation_0-logloss:0.62243\n",
      "[22]\tvalidation_0-logloss:0.620698\n",
      "[23]\tvalidation_0-logloss:0.619017\n",
      "[24]\tvalidation_0-logloss:0.617105\n",
      "[25]\tvalidation_0-logloss:0.615611\n",
      "[26]\tvalidation_0-logloss:0.614606\n",
      "[27]\tvalidation_0-logloss:0.612685\n",
      "[28]\tvalidation_0-logloss:0.611047\n",
      "[29]\tvalidation_0-logloss:0.609578\n",
      "[30]\tvalidation_0-logloss:0.608736\n",
      "[31]\tvalidation_0-logloss:0.607638\n",
      "[32]\tvalidation_0-logloss:0.606005\n",
      "[33]\tvalidation_0-logloss:0.604399\n",
      "[34]\tvalidation_0-logloss:0.603225\n",
      "[35]\tvalidation_0-logloss:0.601777\n",
      "[36]\tvalidation_0-logloss:0.600576\n",
      "[37]\tvalidation_0-logloss:0.599288\n",
      "[38]\tvalidation_0-logloss:0.598361\n",
      "[39]\tvalidation_0-logloss:0.59679\n",
      "[40]\tvalidation_0-logloss:0.595524\n",
      "[41]\tvalidation_0-logloss:0.594332\n",
      "[42]\tvalidation_0-logloss:0.593456\n",
      "[43]\tvalidation_0-logloss:0.59237\n",
      "[44]\tvalidation_0-logloss:0.591068\n",
      "[45]\tvalidation_0-logloss:0.589851\n",
      "[46]\tvalidation_0-logloss:0.588608\n",
      "[47]\tvalidation_0-logloss:0.587813\n",
      "[48]\tvalidation_0-logloss:0.586749\n",
      "[49]\tvalidation_0-logloss:0.585916\n",
      "[50]\tvalidation_0-logloss:0.585181\n",
      "[51]\tvalidation_0-logloss:0.584325\n",
      "[52]\tvalidation_0-logloss:0.583632\n",
      "[53]\tvalidation_0-logloss:0.583007\n",
      "[54]\tvalidation_0-logloss:0.582656\n",
      "[55]\tvalidation_0-logloss:0.582249\n",
      "[56]\tvalidation_0-logloss:0.58162\n",
      "[57]\tvalidation_0-logloss:0.581013\n",
      "[58]\tvalidation_0-logloss:0.579884\n",
      "[59]\tvalidation_0-logloss:0.579104\n",
      "[60]\tvalidation_0-logloss:0.578466\n",
      "[61]\tvalidation_0-logloss:0.577754\n",
      "[62]\tvalidation_0-logloss:0.576801\n",
      "[63]\tvalidation_0-logloss:0.576105\n",
      "[64]\tvalidation_0-logloss:0.575573\n",
      "[65]\tvalidation_0-logloss:0.574635\n",
      "[66]\tvalidation_0-logloss:0.574104\n",
      "[67]\tvalidation_0-logloss:0.573367\n",
      "[68]\tvalidation_0-logloss:0.572391\n",
      "[69]\tvalidation_0-logloss:0.571664\n",
      "[70]\tvalidation_0-logloss:0.571227\n",
      "[71]\tvalidation_0-logloss:0.570477\n",
      "[72]\tvalidation_0-logloss:0.569631\n",
      "[73]\tvalidation_0-logloss:0.568728\n",
      "[74]\tvalidation_0-logloss:0.568402\n",
      "[75]\tvalidation_0-logloss:0.567981\n",
      "[76]\tvalidation_0-logloss:0.567365\n",
      "[77]\tvalidation_0-logloss:0.566824\n",
      "[78]\tvalidation_0-logloss:0.566138\n",
      "[79]\tvalidation_0-logloss:0.565949\n",
      "[80]\tvalidation_0-logloss:0.565291\n",
      "[81]\tvalidation_0-logloss:0.564829\n",
      "[82]\tvalidation_0-logloss:0.564255\n",
      "[83]\tvalidation_0-logloss:0.563892\n",
      "[84]\tvalidation_0-logloss:0.56315\n",
      "[85]\tvalidation_0-logloss:0.562799\n",
      "[86]\tvalidation_0-logloss:0.562641\n",
      "[87]\tvalidation_0-logloss:0.562472\n",
      "[88]\tvalidation_0-logloss:0.561927\n",
      "[89]\tvalidation_0-logloss:0.56132\n",
      "[90]\tvalidation_0-logloss:0.560924\n",
      "[91]\tvalidation_0-logloss:0.56052\n",
      "[92]\tvalidation_0-logloss:0.559884\n",
      "[93]\tvalidation_0-logloss:0.55937\n",
      "[94]\tvalidation_0-logloss:0.559165\n",
      "[95]\tvalidation_0-logloss:0.558881\n",
      "[96]\tvalidation_0-logloss:0.558403\n",
      "[97]\tvalidation_0-logloss:0.558201\n",
      "[98]\tvalidation_0-logloss:0.558009\n",
      "[99]\tvalidation_0-logloss:0.557773\n",
      "* FT: Feeling (F) - Thinking (T) Accuracy: 71.78%\n",
      "JP: Judging (J) – Perceiving (P) ...\n",
      "[0]\tvalidation_0-logloss:0.68412\n",
      "Will train until validation_0-logloss hasn't improved in 10 rounds.\n",
      "[1]\tvalidation_0-logloss:0.676778\n",
      "[2]\tvalidation_0-logloss:0.670086\n",
      "[3]\tvalidation_0-logloss:0.66531\n",
      "[4]\tvalidation_0-logloss:0.661329\n",
      "[5]\tvalidation_0-logloss:0.657959\n",
      "[6]\tvalidation_0-logloss:0.655017\n",
      "[7]\tvalidation_0-logloss:0.651982\n",
      "[8]\tvalidation_0-logloss:0.649613\n",
      "[9]\tvalidation_0-logloss:0.647477\n",
      "[10]\tvalidation_0-logloss:0.645069\n",
      "[11]\tvalidation_0-logloss:0.643491\n",
      "[12]\tvalidation_0-logloss:0.64246\n",
      "[13]\tvalidation_0-logloss:0.641341\n",
      "[14]\tvalidation_0-logloss:0.640292\n",
      "[15]\tvalidation_0-logloss:0.639504\n",
      "[16]\tvalidation_0-logloss:0.63837\n",
      "[17]\tvalidation_0-logloss:0.637502\n",
      "[18]\tvalidation_0-logloss:0.636853\n",
      "[19]\tvalidation_0-logloss:0.636331\n",
      "[20]\tvalidation_0-logloss:0.63597\n",
      "[21]\tvalidation_0-logloss:0.635484\n",
      "[22]\tvalidation_0-logloss:0.63452\n",
      "[23]\tvalidation_0-logloss:0.634285\n",
      "[24]\tvalidation_0-logloss:0.633793\n",
      "[25]\tvalidation_0-logloss:0.633419\n",
      "[26]\tvalidation_0-logloss:0.632503\n",
      "[27]\tvalidation_0-logloss:0.631963\n",
      "[28]\tvalidation_0-logloss:0.631918\n",
      "[29]\tvalidation_0-logloss:0.631612\n",
      "[30]\tvalidation_0-logloss:0.630887\n",
      "[31]\tvalidation_0-logloss:0.630196\n",
      "[32]\tvalidation_0-logloss:0.630001\n",
      "[33]\tvalidation_0-logloss:0.629708\n",
      "[34]\tvalidation_0-logloss:0.629344\n",
      "[35]\tvalidation_0-logloss:0.628523\n",
      "[36]\tvalidation_0-logloss:0.628489\n",
      "[37]\tvalidation_0-logloss:0.628435\n",
      "[38]\tvalidation_0-logloss:0.627665\n",
      "[39]\tvalidation_0-logloss:0.627234\n",
      "[40]\tvalidation_0-logloss:0.627269\n",
      "[41]\tvalidation_0-logloss:0.627016\n",
      "[42]\tvalidation_0-logloss:0.626586\n",
      "[43]\tvalidation_0-logloss:0.626356\n",
      "[44]\tvalidation_0-logloss:0.626436\n",
      "[45]\tvalidation_0-logloss:0.626113\n",
      "[46]\tvalidation_0-logloss:0.62583\n",
      "[47]\tvalidation_0-logloss:0.625961\n",
      "[48]\tvalidation_0-logloss:0.625955\n",
      "[49]\tvalidation_0-logloss:0.626047\n",
      "[50]\tvalidation_0-logloss:0.625649\n",
      "[51]\tvalidation_0-logloss:0.625343\n",
      "[52]\tvalidation_0-logloss:0.6252\n",
      "[53]\tvalidation_0-logloss:0.624915\n",
      "[54]\tvalidation_0-logloss:0.624589\n",
      "[55]\tvalidation_0-logloss:0.624122\n",
      "[56]\tvalidation_0-logloss:0.624117\n",
      "[57]\tvalidation_0-logloss:0.624063\n",
      "[58]\tvalidation_0-logloss:0.623616\n",
      "[59]\tvalidation_0-logloss:0.623444\n",
      "[60]\tvalidation_0-logloss:0.623091\n",
      "[61]\tvalidation_0-logloss:0.623046\n",
      "[62]\tvalidation_0-logloss:0.622872\n",
      "[63]\tvalidation_0-logloss:0.623085\n",
      "[64]\tvalidation_0-logloss:0.622974\n",
      "[65]\tvalidation_0-logloss:0.623051\n",
      "[66]\tvalidation_0-logloss:0.622714\n",
      "[67]\tvalidation_0-logloss:0.622806\n",
      "[68]\tvalidation_0-logloss:0.62286\n",
      "[69]\tvalidation_0-logloss:0.622433\n",
      "[70]\tvalidation_0-logloss:0.622073\n",
      "[71]\tvalidation_0-logloss:0.622032\n",
      "[72]\tvalidation_0-logloss:0.621954\n",
      "[73]\tvalidation_0-logloss:0.621886\n",
      "[74]\tvalidation_0-logloss:0.621886\n",
      "[75]\tvalidation_0-logloss:0.622141\n",
      "[76]\tvalidation_0-logloss:0.622075\n",
      "[77]\tvalidation_0-logloss:0.62206\n",
      "[78]\tvalidation_0-logloss:0.621653\n",
      "[79]\tvalidation_0-logloss:0.621415\n",
      "[80]\tvalidation_0-logloss:0.621335\n",
      "[81]\tvalidation_0-logloss:0.621407\n",
      "[82]\tvalidation_0-logloss:0.621033\n",
      "[83]\tvalidation_0-logloss:0.62105\n",
      "[84]\tvalidation_0-logloss:0.621188\n",
      "[85]\tvalidation_0-logloss:0.621116\n",
      "[86]\tvalidation_0-logloss:0.621185\n",
      "[87]\tvalidation_0-logloss:0.621267\n",
      "[88]\tvalidation_0-logloss:0.620908\n",
      "[89]\tvalidation_0-logloss:0.620895\n",
      "[90]\tvalidation_0-logloss:0.620546\n",
      "[91]\tvalidation_0-logloss:0.620165\n",
      "[92]\tvalidation_0-logloss:0.620031\n",
      "[93]\tvalidation_0-logloss:0.619816\n",
      "[94]\tvalidation_0-logloss:0.619813\n",
      "[95]\tvalidation_0-logloss:0.619879\n",
      "[96]\tvalidation_0-logloss:0.620166\n",
      "[97]\tvalidation_0-logloss:0.619736\n",
      "[98]\tvalidation_0-logloss:0.619704\n",
      "[99]\tvalidation_0-logloss:0.619653\n",
      "* JP: Judging (J) – Perceiving (P) Accuracy: 65.70%\n"
     ]
    }
   ],
   "source": [
    "# Let's train type indicator individually\n",
    "for l in range(len(type_indicators)):\n",
    "    print(\"%s ...\" % (type_indicators[l]))\n",
    "    \n",
    "    Y = list_personality[:,l]\n",
    "\n",
    "    # split data into train and test sets\n",
    "    seed = 7\n",
    "    test_size = 0.33\n",
    "    X_train, X_test, y_train, y_test = train_test_split(X, Y, test_size=test_size, random_state=seed)\n",
    "\n",
    "    # fit model on training data\n",
    "    model = XGBClassifier()\n",
    "    eval_set = [(X_test, y_test)]\n",
    "    model.fit(X_train, y_train, early_stopping_rounds=10, eval_metric=\"logloss\", eval_set=eval_set, verbose=True)\n",
    "\n",
    "    # make predictions for test data\n",
    "    y_pred = model.predict(X_test)\n",
    "    predictions = [round(value) for value in y_pred]\n",
    "    # evaluate predictions\n",
    "    accuracy = accuracy_score(y_test, predictions)\n",
    "    print(\"* %s Accuracy: %.2f%%\" % (type_indicators[l], accuracy * 100.0))\n",
    "    \n",
    "    "
   ]
  },
  {
   "cell_type": "markdown",
   "metadata": {
    "_cell_guid": "2bd23c47-29d4-47cf-ad69-a368992f00c9",
    "_uuid": "83cfd3b2eeab49cb22a7b6b2d3094728a1a54d82"
   },
   "source": [
    "## Feature Importance with XGBoost\n",
    "\n",
    "*\"A benefit of using ensembles of decision tree methods like gradient boosting is that they can automatically provide estimates of feature importance from a trained predictive model. A trained XGBoost model automatically calculates feature importance on your predictive modeling problem.\" [[1]](https://machinelearningmastery.com/xgboost-python-mini-course/)*\n",
    "\n",
    "#### Show feature importance plot and list for the first indicator:"
   ]
  },
  {
   "cell_type": "code",
   "execution_count": 24,
   "metadata": {
    "_cell_guid": "47190dab-9c61-446e-be5d-d344eef60b7d",
    "_uuid": "875cd02eb43ff88ffc5736dce112d2e429483705"
   },
   "outputs": [
    {
     "data": {
      "image/png": "[encoded data removed]",
      "text/plain": [
       "<matplotlib.figure.Figure at 0x7fb39c75afd0>"
      ]
     },
     "metadata": {},
     "output_type": "display_data"
    }
   ],
   "source": [
    "from xgboost import plot_importance\n",
    "\n",
    "# Only the 1st indicator\n",
    "y = list_personality[:,0]\n",
    "# fit model on training data\n",
    "model = XGBClassifier()\n",
    "model.fit(X, y)\n",
    "# plot feature importance\n",
    "ax = plot_importance(model, max_num_features=25)\n",
    "\n",
    "fig = ax.figure\n",
    "fig.set_size_inches(15, 20)\n",
    "\n",
    "plt.show()"
   ]
  },
  {
   "cell_type": "code",
   "execution_count": 25,
   "metadata": {
    "_cell_guid": "26acec59-e08a-4f0c-97cf-db45f0406fa0",
    "_uuid": "03a460ac630d758cfa64fd2cb89ade4c3943f9ac"
   },
   "outputs": [
    {
     "name": "stdout",
     "output_type": "stream",
     "text": [
      "461\t0.039074\tne\n",
      "267\t0.024602\tfun\n",
      "291\t0.024602\tguy\n",
      "670\t0.021708\tsuper\n",
      "53\t0.017366\tawesome\n",
      "403\t0.017366\tlol\n",
      "467\t0.017366\tni\n",
      "75\t0.015919\tbored\n",
      "139\t0.014472\tcrazy\n",
      "313\t0.014472\they\n",
      "772\t0.014472\tworld\n",
      "271\t0.013025\tgame\n",
      "386\t0.013025\tlet\n",
      "465\t0.013025\tnew\n",
      "477\t0.013025\tnt\n",
      "551\t0.013025\tquiet\n",
      "158\t0.011577\tdebate\n",
      "235\t0.011577\tfamily\n",
      "292\t0.011577\thaha\n",
      "783\t0.011577\txd\n",
      "163\t0.010130\tdefinitely\n",
      "440\t0.010130\tmind\n",
      "605\t0.010130\tshit\n",
      "722\t0.010130\tturn\n",
      "229\t0.008683\teye\n"
     ]
    }
   ],
   "source": [
    "features = sorted(list(enumerate(model.feature_importances_)), key=lambda x: x[1], reverse=True)\n",
    "for f in features[0:25]:\n",
    "    print(\"%d\\t%f\\t%s\" % (f[0],f[1],cntizer.get_feature_names()[f[0]]))\n",
    "    \n",
    "# Save xgb_params for late discussuin\n",
    "default_get_xgb_params = model.get_xgb_params()"
   ]
  },
  {
   "cell_type": "markdown",
   "metadata": {
    "_cell_guid": "9687d41c-15e2-42c9-95d1-079f7c077a77",
    "_uuid": "850e3748060bd2c8c3da00866cdf7d4274caddba"
   },
   "source": [
    "## How to Configure Gradient Boosting\n",
    "\n",
    "*\"A number of configuration heuristics were published in the original gradient boosting papers. \n",
    "They can be summarized as:*\n",
    "\n",
    "- *Learning rate or shrinkage (learning_rate in XGBoost) should be set to 0.1 or lower, and smaller values will require the addition of more trees.*\n",
    "- *The depth of trees (tree_depth in XGBoost) should be configured in the range of 2-to-8, where not much benefit is seen with deeper trees.*\n",
    "- *Row sampling (subsample in XGBoost) should be configured in the range of 30% to 80% of the training dataset, and compared to a value of 100% for no sampling.\" [[1]](https://machinelearningmastery.com/xgboost-python-mini-course/)*\n",
    "\n",
    "See also [Complete Guide to Parameter Tuning in XGBoost](https://www.analyticsvidhya.com/blog/2016/03/complete-guide-parameter-tuning-xgboost-with-codes-python/)\n"
   ]
  },
  {
   "cell_type": "code",
   "execution_count": 26,
   "metadata": {
    "_cell_guid": "310792d7-ce3b-4e7d-8dd7-76e5a03f14ca",
    "_uuid": "549735e9e451517c903973cda8e9d2c018822c70"
   },
   "outputs": [
    {
     "name": "stdout",
     "output_type": "stream",
     "text": [
      "{'base_score': 0.5, 'booster': 'gbtree', 'colsample_bylevel': 1, 'colsample_bytree': 1, 'gamma': 0, 'learning_rate': 0.1, 'max_delta_step': 0, 'max_depth': 3, 'min_child_weight': 1, 'missing': None, 'n_estimators': 100, 'nthread': 1, 'objective': 'binary:logistic', 'reg_alpha': 0, 'reg_lambda': 1, 'scale_pos_weight': 1, 'seed': 0, 'silent': 1, 'subsample': 1}\n"
     ]
    }
   ],
   "source": [
    "# Save xgb_params for later discussuin\n",
    "default_get_xgb_params = model.get_xgb_params()\n",
    "print (default_get_xgb_params)"
   ]
  },
  {
   "cell_type": "code",
   "execution_count": 27,
   "metadata": {
    "_cell_guid": "cf65a6b7-cc0e-427e-985f-72f7cce6c939",
    "_uuid": "c4d18a0728d1d5a88756838810569b9bc949ff51"
   },
   "outputs": [
    {
     "name": "stdout",
     "output_type": "stream",
     "text": [
      "IE: Introversion (I) / Extroversion (E) ...\n",
      "* IE: Introversion (I) / Extroversion (E) Accuracy: 79.01%\n",
      "NS: Intuition (N) – Sensing (S) ...\n",
      "* NS: Intuition (N) – Sensing (S) Accuracy: 85.96%\n",
      "FT: Feeling (F) - Thinking (T) ...\n",
      "* FT: Feeling (F) - Thinking (T) Accuracy: 74.19%\n",
      "JP: Judging (J) – Perceiving (P) ...\n",
      "* JP: Judging (J) – Perceiving (P) Accuracy: 65.42%\n"
     ]
    }
   ],
   "source": [
    "# setup parameters for xgboost\n",
    "param = {}\n",
    "\n",
    "param['n_estimators'] = 200\n",
    "param['max_depth'] = 2\n",
    "param['nthread'] = 8\n",
    "param['learning_rate'] = 0.2\n",
    "\n",
    "# Let's train type indicator individually\n",
    "for l in range(len(type_indicators)):\n",
    "    print(\"%s ...\" % (type_indicators[l]))\n",
    "    \n",
    "    Y = list_personality[:,l]\n",
    "\n",
    "    # split data into train and test sets\n",
    "    seed = 7\n",
    "    test_size = 0.33\n",
    "    X_train, X_test, y_train, y_test = train_test_split(X, Y, test_size=test_size, random_state=seed)\n",
    "\n",
    "    # fit model on training data\n",
    "    model = XGBClassifier(**param)\n",
    "    model.fit(X_train, y_train)\n",
    "    # make predictions for test data\n",
    "    y_pred = model.predict(X_test)\n",
    "    predictions = [round(value) for value in y_pred]\n",
    "    # evaluate predictions\n",
    "    accuracy = accuracy_score(y_test, predictions)\n",
    "    print(\"* %s Accuracy: %.2f%%\" % (type_indicators[l], accuracy * 100.0))\n"
   ]
  },
  {
   "cell_type": "markdown",
   "metadata": {
    "_cell_guid": "d73069a6-5a53-402c-83ac-9fdad4673132",
    "_uuid": "a9aa3cefd0fc2e27b66a276dec108eed7eae8449"
   },
   "source": [
    "## XGBoost Hyperparameter Tuning\n",
    "\n",
    "*\"The scikit-learn framework provides the capability to search combinations of parameters. This capability is provided in the GridSearchCV class and can be used to discover the best way to configure the model for top performance on your problem.*    \n",
    "\n",
    "*The parameters to consider tuning are:*\n",
    "- *The number and size of trees (n_estimators and max_depth).*\n",
    "- *The learning rate and number of trees (learning_rate and n_estimators).*\n",
    "- *The row and column subsampling rates (subsample, colsample_bytree and colsample_bylevel).\" [[1]](https://machinelearningmastery.com/xgboost-python-mini-course/)*\n",
    "    \n",
    "See also [Introduction to gradient-boosted trees and XGBoost hyperparameters tuning](https://www.apprendimentoautomatico.it/en/introduction-to-gradient-boosted-trees-and-xgboost-hyperparameters-tuning-with-python/)    "
   ]
  },
  {
   "cell_type": "code",
   "execution_count": 28,
   "metadata": {
    "_cell_guid": "166157f6-c857-4ca7-8202-524ccc79eae8",
    "_uuid": "bb69ead05063fe85c8187a32525cfd8180f3a413"
   },
   "outputs": [
    {
     "name": "stdout",
     "output_type": "stream",
     "text": [
      "IE: Introversion (I) / Extroversion (E) ...\n",
      "* Best: -0.495308 using {'learning_rate': 0.2, 'n_estimators': 200}\n",
      "* -0.495308 (0.009734) with: {'learning_rate': 0.2, 'n_estimators': 200}\n",
      "* -0.497205 (0.010650) with: {'learning_rate': 0.2, 'n_estimators': 300}\n",
      "* -0.501526 (0.013538) with: {'learning_rate': 0.3, 'n_estimators': 200}\n",
      "* -0.508044 (0.016770) with: {'learning_rate': 0.3, 'n_estimators': 300}\n",
      "NS: Intuition (N) – Sensing (S) ...\n",
      "* Best: -0.381549 using {'learning_rate': 0.2, 'n_estimators': 200}\n",
      "* -0.381549 (0.004793) with: {'learning_rate': 0.2, 'n_estimators': 200}\n",
      "* -0.392416 (0.009368) with: {'learning_rate': 0.2, 'n_estimators': 300}\n",
      "* -0.399458 (0.009909) with: {'learning_rate': 0.3, 'n_estimators': 200}\n",
      "* -0.421366 (0.010964) with: {'learning_rate': 0.3, 'n_estimators': 300}\n",
      "FT: Feeling (F) - Thinking (T) ...\n",
      "* Best: -0.522562 using {'learning_rate': 0.2, 'n_estimators': 200}\n",
      "* -0.522562 (0.020541) with: {'learning_rate': 0.2, 'n_estimators': 200}\n",
      "* -0.524013 (0.023247) with: {'learning_rate': 0.2, 'n_estimators': 300}\n",
      "* -0.531151 (0.021141) with: {'learning_rate': 0.3, 'n_estimators': 200}\n",
      "* -0.538608 (0.023608) with: {'learning_rate': 0.3, 'n_estimators': 300}\n",
      "JP: Judging (J) – Perceiving (P) ...\n",
      "* Best: -0.629439 using {'learning_rate': 0.2, 'n_estimators': 200}\n",
      "* -0.629439 (0.009011) with: {'learning_rate': 0.2, 'n_estimators': 200}\n",
      "* -0.637914 (0.011671) with: {'learning_rate': 0.2, 'n_estimators': 300}\n",
      "* -0.649800 (0.012589) with: {'learning_rate': 0.3, 'n_estimators': 200}\n",
      "* -0.667285 (0.013147) with: {'learning_rate': 0.3, 'n_estimators': 300}\n"
     ]
    }
   ],
   "source": [
    "# Tune learning_rate\n",
    "from numpy import loadtxt\n",
    "from xgboost import XGBClassifier\n",
    "from sklearn.model_selection import GridSearchCV\n",
    "from sklearn.model_selection import StratifiedKFold\n",
    "\n",
    "# Posts in tf-idf representation\n",
    "X = X_tfidf\n",
    "\n",
    "# setup parameters for xgboost\n",
    "param = {}\n",
    "param['n_estimators'] = 200\n",
    "param['max_depth'] = 2\n",
    "param['nthread'] = 8\n",
    "param['learning_rate'] = 0.2\n",
    "\n",
    "\n",
    "# Let's train type indicator individually\n",
    "for l in range(len(type_indicators)):\n",
    "    print(\"%s ...\" % (type_indicators[l]))\n",
    "    \n",
    "    Y = list_personality[:,l]\n",
    "    model = XGBClassifier(**param)\n",
    "    # learning_rate = [0.0001, 0.001, 0.01, 0.1, 0.2, 0.3]\n",
    "    # param_grid = dict(learning_rate=learning_rate)\n",
    "    \n",
    "    param_grid = {\n",
    "        'n_estimators' : [ 200, 300],\n",
    "        'learning_rate': [ 0.2, 0.3]\n",
    "        # 'learning_rate': [ 0.01, 0.1, 0.2, 0.3],\n",
    "        # 'max_depth': [2,3,4],\n",
    "    }\n",
    "    \n",
    "    \n",
    "    kfold = StratifiedKFold(n_splits=10, shuffle=True, random_state=7)\n",
    "    grid_search = GridSearchCV(model, param_grid, scoring=\"neg_log_loss\", n_jobs=-1, cv=kfold)\n",
    "    grid_result = grid_search.fit(X, Y)\n",
    "\n",
    "    # summarize results\n",
    "    print(\"* Best: %f using %s\" % (grid_result.best_score_, grid_result.best_params_))\n",
    "    means = grid_result.cv_results_['mean_test_score']\n",
    "    stds = grid_result.cv_results_['std_test_score']\n",
    "    params = grid_result.cv_results_['params']\n",
    "    for mean, stdev, param in zip(means, stds, params):\n",
    "        print(\"* %f (%f) with: %r\" % (mean, stdev, param))\n"
   ]
  },
  {
   "cell_type": "markdown",
   "metadata": {
    "_cell_guid": "9ca7571e-08f4-4cce-ba69-7b3365565298",
    "_uuid": "479b0141e11762e3548f930a681de7cd11d8d362"
   },
   "source": [
    "## Predict own Myers-Briggs Personality Type \n",
    "\n",
    "Using a few tweets and blog post, let's try to predict my own Myers-Briggs Personality Type.\n",
    "\n",
    "1. Prep data\n",
    "2. Fit and predict the 4 type indicators\n",
    "3. Show result\n",
    "\n",
    "\n",
    "#### Prep data:"
   ]
  },
  {
   "cell_type": "code",
   "execution_count": 29,
   "metadata": {
    "_cell_guid": "6868eb62-4dea-4eb1-bba2-b97a893f0354",
    "_uuid": "efb774df6b5a342253f662189c1673c20813913a"
   },
   "outputs": [
    {
     "name": "stdout",
     "output_type": "stream",
     "text": [
      "1 of 1 rows\n"
     ]
    }
   ],
   "source": [
    "# A few few tweets and blog post\n",
    "my_posts  = \"\"\"Getting started with data science and applying machine learning has never been as simple as it is now. There are many free and paid online tutorials and courses out there to help you to get started. I’ve recently started to learn, play, and work on Data Science & Machine Learning on Kaggle.com. In this brief post, I’d like to share my experience with the Kaggle Python Docker image, which simplifies the Data Scientist’s life.\n",
    "Awesome #AWS monitoring introduction.\n",
    "HPE Software (now @MicroFocusSW) won the platinum reader's choice #ITAWARDS 2017 in the new category #CloudMonitoring\n",
    "Certified as AWS Certified Solutions Architect \n",
    "Hi, please have a look at my Udacity interview about online learning and machine learning,\n",
    "Very interesting to see the  lessons learnt during the HP Operations Orchestration to CloudSlang journey. http://bit.ly/1Xo41ci \n",
    "I came across a post on devopsdigest.com and need your input: “70% DevOps organizations Unhappy with DevOps Monitoring Tools”\n",
    "In a similar investigation I found out that many DevOps organizations use several monitoring tools in parallel. Senu, Nagios, LogStach and SaaS offerings such as DataDog or SignalFX to name a few. However, one element is missing: Consolidation of alerts and status in a single pane of glass, which enables fast remediation of application and infrastructure uptime and performance issues.\n",
    "Sure, there are commercial tools on the market for exactly this use case but these tools are not necessarily optimized for DevOps.\n",
    "So, here my question to you: In your DevOps project, have you encountered that the lack of consolidation of alerts and status is a real issue? If yes, how did you approach the problem? Or is an ChatOps approach just right?\n",
    "You will probably hear more and more about ChatOps - at conferences, DevOps meet-ups or simply from your co-worker at the coffee station. ChatOps is a term and concept coined by GitHub. It's about the conversation-driven development, automation, and operations.\n",
    "Now the question is: why and how would I, as an ops-focused engineer, implement and use ChatOps in my organization? The next question then is: How to include my tools into the chat conversation?\n",
    "Let’s begin by having a look at a use case. The Closed Looped Incidents Process (CLIP) can be rejuvenated with ChatOps. The work from the incident detection runs through monitoring until the resolution of issues in your application or infrastructure can be accelerated with improved, cross-team communication and collaboration.\n",
    "In this blog post, I am going to describe and share my experience with deploying HP Operations Manager i 10.0 (OMi) on HP Helion Public Cloud. An Infrastructure as a Service platform such as HP Helion Public Cloud Compute is a great place to quickly spin-up a Linux server and install HP Operations Manager i for various use scenarios. An example of a good use case is monitoring workloads across public clouds such as AWS and Azure.\n",
    "\"\"\"\n",
    "\n",
    "# The type is just a dummy so that the data prep fucntion can be reused\n",
    "mydata = pd.DataFrame(data={'type': ['INFJ'], 'posts': [my_posts]})\n",
    "\n",
    "my_posts, dummy  = pre_process_data(mydata, remove_stop_words=True)\n",
    "\n",
    "my_X_cnt = cntizer.transform(my_posts)\n",
    "my_X_tfidf =  tfizer.transform(my_X_cnt).toarray()"
   ]
  },
  {
   "cell_type": "markdown",
   "metadata": {
    "_cell_guid": "09a3383d-8e7d-4bad-9e22-e66251c1abe4",
    "_uuid": "bc8128f03e16622d6a340db9fb654b48d2dacef0"
   },
   "source": [
    "#### Fit and predict the 4 type indicators:"
   ]
  },
  {
   "cell_type": "code",
   "execution_count": 30,
   "metadata": {
    "_cell_guid": "8a75daf8-c835-473b-809f-5afba651d6f1",
    "_uuid": "2a365ca5f617519491f2eb0b2d909b18e8758de8"
   },
   "outputs": [
    {
     "name": "stdout",
     "output_type": "stream",
     "text": [
      "IE: Introversion (I) / Extroversion (E) ...\n",
      "NS: Intuition (N) – Sensing (S) ...\n",
      "FT: Feeling (F) - Thinking (T) ...\n",
      "JP: Judging (J) – Perceiving (P) ...\n"
     ]
    }
   ],
   "source": [
    "# setup parameters for xgboost\n",
    "param = {}\n",
    "param['n_estimators'] = 200\n",
    "param['max_depth'] = 2\n",
    "param['nthread'] = 8\n",
    "param['learning_rate'] = 0.2\n",
    "\n",
    "result = []\n",
    "# Let's train type indicator individually\n",
    "for l in range(len(type_indicators)):\n",
    "    print(\"%s ...\" % (type_indicators[l]))\n",
    "    \n",
    "    Y = list_personality[:,l]\n",
    "\n",
    "    # split data into train and test sets\n",
    "    seed = 7\n",
    "    test_size = 0.33\n",
    "    X_train, X_test, y_train, y_test = train_test_split(X, Y, test_size=test_size, random_state=seed)\n",
    "\n",
    "    # fit model on training data\n",
    "    model = XGBClassifier(**param)\n",
    "    model.fit(X_train, y_train)\n",
    "    \n",
    "    # make predictions for my  data\n",
    "    y_pred = model.predict(my_X_tfidf)\n",
    "    result.append(y_pred[0])\n",
    "    # print(\"* %s prediction: %s\" % (type_indicators[l], y_pred))"
   ]
  },
  {
   "cell_type": "markdown",
   "metadata": {
    "_cell_guid": "f05c1173-e4a8-4260-afc4-a2ffe6df68ea",
    "_uuid": "e27b7f6379e1246d68c8c6542327becca15f02be"
   },
   "source": [
    "#### Show result"
   ]
  },
  {
   "cell_type": "code",
   "execution_count": 31,
   "metadata": {
    "_cell_guid": "2ffb4395-a9f2-408e-a7b4-d7d91281e51e",
    "_uuid": "ea10e21f587244beff55e25d0986d8912e02ac36"
   },
   "outputs": [
    {
     "name": "stdout",
     "output_type": "stream",
     "text": [
      "The result is:  INTJ\n"
     ]
    }
   ],
   "source": [
    "print(\"The result is: \", translate_back(result))"
   ]
  },
  {
   "cell_type": "markdown",
   "metadata": {
    "_cell_guid": "edc0a8bd-9f0a-414c-b13a-4fc777691167",
    "_uuid": "e6e8f8a5825e562b25b8cd6251027535ea691605"
   },
   "source": [
    "Wow, the result is very, very close to the real Myers-Briggs assessment that I did a few years back. Only one indicator is different. Any guess? ;-)\n"
   ]
  },
  {
   "cell_type": "code",
   "execution_count": 32,
   "metadata": {
    "_cell_guid": "1a5c85fb-5cce-4220-943b-820bb741b531",
    "_uuid": "c438fa213ace6947606d098e0f1b6aa6ab27e0cf",
    "collapsed": true
   },
   "outputs": [],
   "source": []
  }
 ],
 "metadata": {
  "kernelspec": {
   "display_name": "Python 3",
   "language": "python",
   "name": "python3"
  },
  "language_info": {
   "codemirror_mode": {
    "name": "ipython",
    "version": 3
   },
   "file_extension": ".py",
   "mimetype": "text/x-python",
   "name": "python",
   "nbconvert_exporter": "python",
   "pygments_lexer": "ipython3",
   "version": "3.7.1"
  }
 },
 "nbformat": 4,
 "nbformat_minor": 2
}
