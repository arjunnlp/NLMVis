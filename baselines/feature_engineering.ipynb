{
 "cells": [
  {
   "cell_type": "code",
   "execution_count": 45,
   "metadata": {
    "_cell_guid": "c1984163-fffe-41aa-99a0-243673f1bf51",
    "_uuid": "e1fd66d81a1166c3f8054857e1824c5de671bb09"
   },
   "outputs": [
    {
     "name": "stdout",
     "output_type": "stream",
     "text": [
      "  label                                               text  is_valid\n",
      "0  ISFP  'He sounds like he likes you, if you really wa...     False\n",
      "1  INTJ  'I saved a dog's life today in the most cliche...     False\n",
      "2  INFP  'https://www.youtube.com/watch?time_continue=2...     False\n",
      "3  ENTP  'Tell me about it!!|||When I apologised for up...      True\n",
      "4  INTJ  'If you ever meet someone you get along with i...     False\n",
      "5  INFJ  'https://i.chzbgr.com/completestore/12/9/12/4J...      True\n",
      "6  ISFP  'I'm lovin' this. The live chat is hilarious. ...     False\n",
      "7  INFJ  'Not true. I have contacts whom I have contact...     False\n",
      "8  INFP  The bulk of humanity is just evil.....I want m...     False\n",
      "9  INTP  'keep it coming, people this entp interaction ...      True\n",
      "<class 'pandas.core.frame.DataFrame'>\n",
      "RangeIndex: 8675 entries, 0 to 8674\n",
      "Data columns (total 3 columns):\n",
      "label       8675 non-null object\n",
      "text        8675 non-null object\n",
      "is_valid    8675 non-null bool\n",
      "dtypes: bool(1), object(2)\n",
      "memory usage: 144.1+ KB\n",
      "None\n"
     ]
    }
   ],
   "source": [
    "import re\n",
    "import numpy as np\n",
    "import collections\n",
    "from collections import Counter\n",
    "import pandas as pd\n",
    "import seaborn as sns\n",
    "import matplotlib.pyplot as plt\n",
    "from bokeh.io import output_file, show\n",
    "from bokeh.plotting import figure\n",
    "from bokeh.models import ColumnDataSource, HoverTool\n",
    "from sklearn.linear_model import LogisticRegression\n",
    "from sklearn.ensemble import RandomForestClassifier\n",
    "from sklearn.linear_model import Perceptron\n",
    "from sklearn.linear_model import SGDClassifier\n",
    "from sklearn.model_selection import train_test_split\n",
    "from sklearn.neighbors import KNeighborsClassifier\n",
    "from sklearn.linear_model import LinearRegression\n",
    "from sklearn.model_selection import cross_val_score\n",
    "from sklearn.metrics import accuracy_score\n",
    "from sklearn.preprocessing import MinMaxScaler\n",
    "from sklearn.multiclass import OneVsRestClassifier\n",
    "from sklearn.linear_model import LogisticRegression\n",
    "from sklearn.ensemble import RandomForestClassifier\n",
    "\n",
    "\n",
    "df = pd.read_parquet('data/mbti_1.pqt')\n",
    "print(df.head(10))\n",
    "print(df.info())\n"
   ]
  },
  {
   "cell_type": "code",
   "execution_count": 46,
   "metadata": {
    "_cell_guid": "e8029602-1dc9-4a2a-b4e1-7072f81c565b",
    "_uuid": "ffcbdf4d43d2017e187f58a69d58cde88f5206b2",
    "collapsed": true
   },
   "outputs": [
    {
     "data": {
      "text/html": [
       "<div>\n",
       "<style scoped>\n",
       "    .dataframe tbody tr th:only-of-type {\n",
       "        vertical-align: middle;\n",
       "    }\n",
       "\n",
       "    .dataframe tbody tr th {\n",
       "        vertical-align: top;\n",
       "    }\n",
       "\n",
       "    .dataframe thead th {\n",
       "        text-align: right;\n",
       "    }\n",
       "</style>\n",
       "<table border=\"1\" class=\"dataframe\">\n",
       "  <thead>\n",
       "    <tr style=\"text-align: right;\">\n",
       "      <th></th>\n",
       "      <th>label</th>\n",
       "      <th>text</th>\n",
       "      <th>is_valid</th>\n",
       "      <th>words_per_comment</th>\n",
       "      <th>http_per_comment</th>\n",
       "      <th>music_per_comment</th>\n",
       "      <th>question_per_comment</th>\n",
       "      <th>img_per_comment</th>\n",
       "      <th>excl_per_comment</th>\n",
       "      <th>ellipsis_per_comment</th>\n",
       "      <th>comma_per_comment</th>\n",
       "    </tr>\n",
       "  </thead>\n",
       "  <tbody>\n",
       "    <tr>\n",
       "      <th>0</th>\n",
       "      <td>ISFP</td>\n",
       "      <td>'He sounds like he likes you, if you really wa...</td>\n",
       "      <td>False</td>\n",
       "      <td>28.00</td>\n",
       "      <td>0.06</td>\n",
       "      <td>0.04</td>\n",
       "      <td>0.08</td>\n",
       "      <td>0.00</td>\n",
       "      <td>0.04</td>\n",
       "      <td>0.48</td>\n",
       "      <td>1.56</td>\n",
       "    </tr>\n",
       "    <tr>\n",
       "      <th>1</th>\n",
       "      <td>INTJ</td>\n",
       "      <td>'I saved a dog's life today in the most cliche...</td>\n",
       "      <td>False</td>\n",
       "      <td>23.48</td>\n",
       "      <td>0.12</td>\n",
       "      <td>0.00</td>\n",
       "      <td>0.14</td>\n",
       "      <td>0.04</td>\n",
       "      <td>0.00</td>\n",
       "      <td>0.78</td>\n",
       "      <td>1.28</td>\n",
       "    </tr>\n",
       "    <tr>\n",
       "      <th>2</th>\n",
       "      <td>INFP</td>\n",
       "      <td>'https://www.youtube.com/watch?time_continue=2...</td>\n",
       "      <td>False</td>\n",
       "      <td>15.24</td>\n",
       "      <td>0.30</td>\n",
       "      <td>0.04</td>\n",
       "      <td>0.52</td>\n",
       "      <td>0.00</td>\n",
       "      <td>0.16</td>\n",
       "      <td>0.24</td>\n",
       "      <td>0.88</td>\n",
       "    </tr>\n",
       "    <tr>\n",
       "      <th>3</th>\n",
       "      <td>ENTP</td>\n",
       "      <td>'Tell me about it!!|||When I apologised for up...</td>\n",
       "      <td>True</td>\n",
       "      <td>29.92</td>\n",
       "      <td>0.02</td>\n",
       "      <td>0.02</td>\n",
       "      <td>0.06</td>\n",
       "      <td>0.00</td>\n",
       "      <td>0.38</td>\n",
       "      <td>0.96</td>\n",
       "      <td>0.60</td>\n",
       "    </tr>\n",
       "    <tr>\n",
       "      <th>4</th>\n",
       "      <td>INTJ</td>\n",
       "      <td>'If you ever meet someone you get along with i...</td>\n",
       "      <td>False</td>\n",
       "      <td>15.08</td>\n",
       "      <td>0.70</td>\n",
       "      <td>0.02</td>\n",
       "      <td>0.70</td>\n",
       "      <td>0.02</td>\n",
       "      <td>0.08</td>\n",
       "      <td>0.40</td>\n",
       "      <td>0.96</td>\n",
       "    </tr>\n",
       "  </tbody>\n",
       "</table>\n",
       "</div>"
      ],
      "text/plain": [
       "  label                                               text  is_valid  \\\n",
       "0  ISFP  'He sounds like he likes you, if you really wa...     False   \n",
       "1  INTJ  'I saved a dog's life today in the most cliche...     False   \n",
       "2  INFP  'https://www.youtube.com/watch?time_continue=2...     False   \n",
       "3  ENTP  'Tell me about it!!|||When I apologised for up...      True   \n",
       "4  INTJ  'If you ever meet someone you get along with i...     False   \n",
       "\n",
       "   words_per_comment  http_per_comment  music_per_comment  \\\n",
       "0              28.00              0.06               0.04   \n",
       "1              23.48              0.12               0.00   \n",
       "2              15.24              0.30               0.04   \n",
       "3              29.92              0.02               0.02   \n",
       "4              15.08              0.70               0.02   \n",
       "\n",
       "   question_per_comment  img_per_comment  excl_per_comment  \\\n",
       "0                  0.08             0.00              0.04   \n",
       "1                  0.14             0.04              0.00   \n",
       "2                  0.52             0.00              0.16   \n",
       "3                  0.06             0.00              0.38   \n",
       "4                  0.70             0.02              0.08   \n",
       "\n",
       "   ellipsis_per_comment  comma_per_comment  \n",
       "0                  0.48               1.56  \n",
       "1                  0.78               1.28  \n",
       "2                  0.24               0.88  \n",
       "3                  0.96               0.60  \n",
       "4                  0.40               0.96  "
      ]
     },
     "execution_count": 46,
     "metadata": {},
     "output_type": "execute_result"
    }
   ],
   "source": [
    "df['words_per_comment'] = df['text'].apply(lambda x: len(x.split())/50)\n",
    "df['http_per_comment'] = df['text'].apply(lambda x: x.count('http')/50)\n",
    "df['music_per_comment'] = df['text'].apply(lambda x: x.count('music')/50)\n",
    "df['question_per_comment'] = df['text'].apply(lambda x: x.count('?')/50)\n",
    "df['img_per_comment'] = df['text'].apply(lambda x: x.count('jpg')/50)\n",
    "df['excl_per_comment'] = df['text'].apply(lambda x: x.count('!')/50)\n",
    "df['ellipsis_per_comment'] = df['text'].apply(lambda x: x.count('...')/50)\n",
    "df['comma_per_comment'] = df['text'].apply(lambda x: x.count(',')/50)\n",
    "df.head()"
   ]
  },
  {
   "cell_type": "code",
   "execution_count": 47,
   "metadata": {},
   "outputs": [
    {
     "name": "stderr",
     "output_type": "stream",
     "text": [
      "/home/dainis/anaconda3/lib/python3.7/site-packages/scipy/stats/stats.py:1713: FutureWarning: Using a non-tuple sequence for multidimensional indexing is deprecated; use `arr[tuple(seq)]` instead of `arr[seq]`. In the future this will be interpreted as an array index, `arr[np.array(seq)]`, which will result either in an error or a different result.\n",
      "  return np.add.reduce(sorted[indexer] * weights, axis=axis) / sumval\n"
     ]
    },
    {
     "data": {
      "text/plain": [
       "<seaborn.axisgrid.JointGrid at 0x7f4f9ac34d68>"
      ]
     },
     "execution_count": 47,
     "metadata": {},
     "output_type": "execute_result"
    },
    {
     "data": {
      "text/plain": [
       "<Figure size 1080x720 with 0 Axes>"
      ]
     },
     "metadata": {},
     "output_type": "display_data"
    },
    {
     "data": {
      "image/png": "[encoded data removed]",
      "text/plain": [
       "<Figure size 432x432 with 3 Axes>"
      ]
     },
     "metadata": {
      "needs_background": "light"
     },
     "output_type": "display_data"
    },
    {
     "data": {
      "image/png": "[encoded data removed]",
      "text/plain": [
       "<Figure size 432x432 with 3 Axes>"
      ]
     },
     "metadata": {
      "needs_background": "light"
     },
     "output_type": "display_data"
    },
    {
     "data": {
      "image/png": "[encoded data removed]",
      "text/plain": [
       "<Figure size 432x432 with 3 Axes>"
      ]
     },
     "metadata": {
      "needs_background": "light"
     },
     "output_type": "display_data"
    },
    {
     "data": {
      "image/png": "[encoded data removed]",
      "text/plain": [
       "<Figure size 432x432 with 3 Axes>"
      ]
     },
     "metadata": {
      "needs_background": "light"
     },
     "output_type": "display_data"
    },
    {
     "data": {
      "image/png": "[encoded data removed]",
      "text/plain": [
       "<Figure size 432x432 with 3 Axes>"
      ]
     },
     "metadata": {
      "needs_background": "light"
     },
     "output_type": "display_data"
    },
    {
     "data": {
      "image/png": "[encoded data removed]",
      "text/plain": [
       "<Figure size 432x432 with 3 Axes>"
      ]
     },
     "metadata": {
      "needs_background": "light"
     },
     "output_type": "display_data"
    },
    {
     "data": {
      "image/png": "[encoded data removed]",
      "text/plain": [
       "<Figure size 432x432 with 3 Axes>"
      ]
     },
     "metadata": {
      "needs_background": "light"
     },
     "output_type": "display_data"
    }
   ],
   "source": [
    "plt.figure(figsize=(15,10))\n",
    "sns.jointplot(x='words_per_comment', y='http_per_comment', data=df, kind='kde')\n",
    "sns.jointplot(x='words_per_comment', y='music_per_comment', data=df, kind='kde')\n",
    "sns.jointplot(x='words_per_comment', y='question_per_comment', data=df, kind='kde')\n",
    "sns.jointplot(x='words_per_comment', y='img_per_comment', data=df, kind='kde')\n",
    "sns.jointplot(x='words_per_comment', y='excl_per_comment', data=df, kind='kde')\n",
    "sns.jointplot(x='words_per_comment', y='ellipsis_per_comment', data=df, kind='kde')\n",
    "sns.jointplot(x='words_per_comment', y='comma_per_comment', data=df, kind='kde')"
   ]
  },
  {
   "cell_type": "code",
   "execution_count": 48,
   "metadata": {
    "_cell_guid": "dcdb7444-2da6-4660-acfe-5a9321a3af35",
    "_uuid": "831d063f8b916840403709f51736ad616aad99e8",
    "collapsed": true
   },
   "outputs": [
    {
     "name": "stdout",
     "output_type": "stream",
     "text": [
      "0.7239129106930459\n",
      "0.741836096776579\n",
      "0.7223598412495943\n",
      "0.705411470476091\n",
      "0.639982031953954\n",
      "0.641741709999527\n",
      "0.6421043831098796\n",
      "0.6701370930896872\n",
      "0.7305845421989157\n",
      "0.9047732695678704\n",
      "0.7979480156944374\n",
      "0.7423804864273491\n",
      "[0.9047732695678704, 0.7979480156944374, 0.7423804864273491, 0.741836096776579, 0.7305845421989157, 0.7239129106930459, 0.7223598412495943, 0.705411470476091, 0.6701370930896872, 0.6421043831098796, 0.641741709999527, 0.639982031953954]\n",
      "['INFJ', 'INTP', 'ENFP', 'ENFJ', 'ENTP', 'INFP', 'ISFP', 'ISTP', 'INTJ', 'ENTJ', 'ESTJ', 'ESFJ']\n"
     ]
    },
    {
     "data": {
      "text/plain": [
       "<matplotlib.collections.PathCollection at 0x7f4f5f344518>"
      ]
     },
     "execution_count": 48,
     "metadata": {},
     "output_type": "execute_result"
    },
    {
     "data": {
      "image/png": "[encoded data removed]",
      "text/plain": [
       "<Figure size 432x288 with 1 Axes>"
      ]
     },
     "metadata": {
      "needs_background": "light"
     },
     "output_type": "display_data"
    }
   ],
   "source": [
    "i = df['label'].unique()\n",
    "k = 0\n",
    "TypeArray = []\n",
    "PearArray=[]\n",
    "for m in range(0,2):\n",
    "    for n in range(0,6):\n",
    "        df_2 = df[df['label'] == i[k]]\n",
    "        pearsoncoef1=np.corrcoef(x=df_2['words_per_comment'], y=df_2['ellipsis_per_comment'])\n",
    "        pear=pearsoncoef1[1][0]\n",
    "        print(pear)\n",
    "        TypeArray.append(i[k])\n",
    "        PearArray.append(pear)\n",
    "        k+=1\n",
    "\n",
    "\n",
    "TypeArray = [x for _,x in sorted(zip(PearArray,TypeArray))]\n",
    "PearArray = sorted(PearArray, reverse=True)\n",
    "print(PearArray)\n",
    "print(TypeArray)\n",
    "plt.scatter(TypeArray, PearArray)"
   ]
  },
  {
   "cell_type": "code",
   "execution_count": 49,
   "metadata": {},
   "outputs": [
    {
     "name": "stdout",
     "output_type": "stream",
     "text": [
      "0.626780166253987\n",
      "0.5832090080218444\n",
      "0.5524914125984627\n",
      "0.5213116828510341\n",
      "0.5248752600489962\n",
      "0.5735353926089561\n",
      "0.49519586917496305\n",
      "0.5362434465195006\n",
      "0.5942782302912534\n",
      "0.6297875797919695\n",
      "0.4463890775695336\n",
      "0.5521820131557013\n",
      "[0.6297875797919695, 0.626780166253987, 0.5942782302912534, 0.5832090080218444, 0.5735353926089561, 0.5524914125984627, 0.5521820131557013, 0.5362434465195006, 0.5248752600489962, 0.5213116828510341, 0.49519586917496305, 0.4463890775695336]\n",
      "['ESTJ', 'ENFP', 'ENTP', 'INFJ', 'ENFJ', 'ENTJ', 'INFP', 'INTP', 'INTJ', 'ISTP', 'ISFP', 'ESFJ']\n"
     ]
    },
    {
     "data": {
      "text/plain": [
       "<matplotlib.collections.PathCollection at 0x7f4f99e6b358>"
      ]
     },
     "execution_count": 49,
     "metadata": {},
     "output_type": "execute_result"
    },
    {
     "data": {
      "image/png": "[encoded data removed]",
      "text/plain": [
       "<Figure size 432x288 with 1 Axes>"
      ]
     },
     "metadata": {
      "needs_background": "light"
     },
     "output_type": "display_data"
    }
   ],
   "source": [
    "i = df['label'].unique()\n",
    "k = 0\n",
    "TypeArray = []\n",
    "PearArray=[]\n",
    "for m in range(0,2):\n",
    "    for n in range(0,6):\n",
    "        df_2 = df[df['label'] == i[k]]\n",
    "        pearsoncoef1=np.corrcoef(x=df_2['words_per_comment'], y=df_2['comma_per_comment'])\n",
    "        pear=pearsoncoef1[1][0]\n",
    "        print(pear)\n",
    "        TypeArray.append(i[k])\n",
    "        PearArray.append(pear)\n",
    "        k+=1\n",
    "\n",
    "\n",
    "TypeArray = [x for _,x in sorted(zip(PearArray,TypeArray))]\n",
    "PearArray = sorted(PearArray, reverse=True)\n",
    "print(PearArray)\n",
    "print(TypeArray)\n",
    "plt.scatter(TypeArray, PearArray)"
   ]
  },
  {
   "cell_type": "code",
   "execution_count": 50,
   "metadata": {},
   "outputs": [
    {
     "name": "stdout",
     "output_type": "stream",
     "text": [
      "-0.4412631571983905\n",
      "-0.38387905869453504\n",
      "-0.44790324010760374\n",
      "-0.32322929968665637\n",
      "-0.46973778684960804\n",
      "-0.443738460715023\n",
      "-0.33397053940902227\n",
      "-0.3922894943391376\n",
      "-0.4403609599011288\n",
      "-0.22821019503804293\n",
      "-0.479452222114812\n",
      "-0.4103412859647169\n",
      "[-0.22821019503804293, -0.32322929968665637, -0.33397053940902227, -0.38387905869453504, -0.3922894943391376, -0.4103412859647169, -0.4403609599011288, -0.4412631571983905, -0.443738460715023, -0.44790324010760374, -0.46973778684960804, -0.479452222114812]\n",
      "['ESTJ', 'INFJ', 'INFP', 'INTP', 'ISFP', 'ISTP', 'ENTJ', 'ENFJ', 'INTJ', 'ENFP', 'ENTP', 'ESFJ']\n"
     ]
    },
    {
     "data": {
      "text/plain": [
       "<matplotlib.collections.PathCollection at 0x7f4f9008a208>"
      ]
     },
     "execution_count": 50,
     "metadata": {},
     "output_type": "execute_result"
    },
    {
     "data": {
      "image/png": "[encoded data removed]",
      "text/plain": [
       "<Figure size 432x288 with 1 Axes>"
      ]
     },
     "metadata": {
      "needs_background": "light"
     },
     "output_type": "display_data"
    }
   ],
   "source": [
    "i = df['label'].unique()\n",
    "k = 0\n",
    "TypeArray = []\n",
    "PearArray=[]\n",
    "for m in range(0,2):\n",
    "    for n in range(0,6):\n",
    "        df_2 = df[df['label'] == i[k]]\n",
    "        pearsoncoef1=np.corrcoef(x=df_2['words_per_comment'], y=df_2['http_per_comment'])\n",
    "        pear=pearsoncoef1[1][0]\n",
    "        print(pear)\n",
    "        TypeArray.append(i[k])\n",
    "        PearArray.append(pear)\n",
    "        k+=1\n",
    "\n",
    "\n",
    "TypeArray = [x for _,x in sorted(zip(PearArray,TypeArray))]\n",
    "PearArray = sorted(PearArray, reverse=True)\n",
    "print(PearArray)\n",
    "print(TypeArray)\n",
    "plt.scatter(TypeArray, PearArray)"
   ]
  },
  {
   "cell_type": "code",
   "execution_count": 51,
   "metadata": {},
   "outputs": [
    {
     "name": "stdout",
     "output_type": "stream",
     "text": [
      "0.027744856587425103\n",
      "0.04933012697911608\n",
      "0.03832491345421324\n",
      "0.10786188688932347\n",
      "0.04570724680836787\n",
      "0.07550120097302282\n",
      "0.005605457260403488\n",
      "0.13766524032361335\n",
      "-0.04613520774304308\n",
      "0.05015840677098754\n",
      "0.1426506002937365\n",
      "0.02463424444423728\n",
      "[0.1426506002937365, 0.13766524032361335, 0.10786188688932347, 0.07550120097302282, 0.05015840677098754, 0.04933012697911608, 0.04570724680836787, 0.03832491345421324, 0.027744856587425103, 0.02463424444423728, 0.005605457260403488, -0.04613520774304308]\n",
      "['ISTP', 'ENFP', 'ENTJ', 'ISFP', 'INFP', 'INFJ', 'INTJ', 'ESFJ', 'INTP', 'ENTP', 'ENFJ', 'ESTJ']\n"
     ]
    },
    {
     "data": {
      "text/plain": [
       "<matplotlib.collections.PathCollection at 0x7f4f900b1b70>"
      ]
     },
     "execution_count": 51,
     "metadata": {},
     "output_type": "execute_result"
    },
    {
     "data": {
      "image/png": "[encoded data removed]",
      "text/plain": [
       "<Figure size 432x288 with 1 Axes>"
      ]
     },
     "metadata": {
      "needs_background": "light"
     },
     "output_type": "display_data"
    }
   ],
   "source": [
    "i = df['label'].unique()\n",
    "k = 0\n",
    "TypeArray = []\n",
    "PearArray=[]\n",
    "for m in range(0,2):\n",
    "    for n in range(0,6):\n",
    "        df_2 = df[df['label'] == i[k]]\n",
    "        pearsoncoef1=np.corrcoef(x=df_2['words_per_comment'], y=df_2['music_per_comment'])\n",
    "        pear=pearsoncoef1[1][0]\n",
    "        print(pear)\n",
    "        TypeArray.append(i[k])\n",
    "        PearArray.append(pear)\n",
    "        k+=1\n",
    "\n",
    "\n",
    "TypeArray = [x for _,x in sorted(zip(PearArray,TypeArray))]\n",
    "PearArray = sorted(PearArray, reverse=True)\n",
    "print(PearArray)\n",
    "print(TypeArray)\n",
    "plt.scatter(TypeArray, PearArray)"
   ]
  },
  {
   "cell_type": "code",
   "execution_count": 52,
   "metadata": {},
   "outputs": [
    {
     "name": "stdout",
     "output_type": "stream",
     "text": [
      "-0.11194966485163384\n",
      "-0.06489290646518699\n",
      "-0.1850031724169325\n",
      "0.0015954284011220595\n",
      "-0.20059983087581515\n",
      "-0.1675353752750199\n",
      "-0.02598583880022979\n",
      "0.05046542041629766\n",
      "-0.19388067263924413\n",
      "0.03680433680602252\n",
      "-0.08181160565667314\n",
      "0.025116115218628297\n",
      "[0.05046542041629766, 0.03680433680602252, 0.025116115218628297, 0.0015954284011220595, -0.02598583880022979, -0.06489290646518699, -0.08181160565667314, -0.11194966485163384, -0.1675353752750199, -0.1850031724169325, -0.19388067263924413, -0.20059983087581515]\n",
      "['INFJ', 'ISTP', 'INFP', 'INTP', 'ISFP', 'ESTJ', 'INTJ', 'ENFP', 'ENTP', 'ENTJ', 'ESFJ', 'ENFJ']\n"
     ]
    },
    {
     "data": {
      "text/plain": [
       "<matplotlib.collections.PathCollection at 0x7f4f9048e710>"
      ]
     },
     "execution_count": 52,
     "metadata": {},
     "output_type": "execute_result"
    },
    {
     "data": {
      "image/png": "[encoded data removed]",
      "text/plain": [
       "<Figure size 432x288 with 1 Axes>"
      ]
     },
     "metadata": {
      "needs_background": "light"
     },
     "output_type": "display_data"
    }
   ],
   "source": [
    "i = df['label'].unique()\n",
    "k = 0\n",
    "TypeArray = []\n",
    "PearArray=[]\n",
    "for m in range(0,2):\n",
    "    for n in range(0,6):\n",
    "        df_2 = df[df['label'] == i[k]]\n",
    "        pearsoncoef1=np.corrcoef(x=df_2['words_per_comment'], y=df_2['question_per_comment'])\n",
    "        pear=pearsoncoef1[1][0]\n",
    "        print(pear)\n",
    "        TypeArray.append(i[k])\n",
    "        PearArray.append(pear)\n",
    "        k+=1\n",
    "\n",
    "\n",
    "TypeArray = [x for _,x in sorted(zip(PearArray,TypeArray))]\n",
    "PearArray = sorted(PearArray, reverse=True)\n",
    "print(PearArray)\n",
    "print(TypeArray)\n",
    "plt.scatter(TypeArray, PearArray)"
   ]
  },
  {
   "cell_type": "code",
   "execution_count": 53,
   "metadata": {},
   "outputs": [
    {
     "name": "stdout",
     "output_type": "stream",
     "text": [
      "0.1113305792983445\n",
      "-0.038816566785915094\n",
      "0.08214719503143689\n",
      "0.016170837972113484\n",
      "0.021628503498021423\n",
      "-0.007840388694110084\n",
      "0.004814924760558115\n",
      "0.026464970086457006\n",
      "0.022053814558898762\n",
      "0.16497864004488358\n",
      "-0.017230061918081564\n",
      "-0.058849037674061785\n",
      "[0.16497864004488358, 0.1113305792983445, 0.08214719503143689, 0.026464970086457006, 0.022053814558898762, 0.021628503498021423, 0.016170837972113484, 0.004814924760558115, -0.007840388694110084, -0.017230061918081564, -0.038816566785915094, -0.058849037674061785]\n",
      "['ENTJ', 'INTJ', 'ESTJ', 'INTP', 'ENFP', 'ENTP', 'INFJ', 'ISTP', 'ENFJ', 'INFP', 'ISFP', 'ESFJ']\n"
     ]
    },
    {
     "data": {
      "text/plain": [
       "<matplotlib.collections.PathCollection at 0x7f4f90395f60>"
      ]
     },
     "execution_count": 53,
     "metadata": {},
     "output_type": "execute_result"
    },
    {
     "data": {
      "image/png": "[encoded data removed]",
      "text/plain": [
       "<Figure size 432x288 with 1 Axes>"
      ]
     },
     "metadata": {
      "needs_background": "light"
     },
     "output_type": "display_data"
    }
   ],
   "source": [
    "i = df['label'].unique()\n",
    "k = 0\n",
    "TypeArray = []\n",
    "PearArray=[]\n",
    "for m in range(0,2):\n",
    "    for n in range(0,6):\n",
    "        df_2 = df[df['label'] == i[k]]\n",
    "        pearsoncoef1=np.corrcoef(x=df_2['words_per_comment'], y=df_2['excl_per_comment'])\n",
    "        pear=pearsoncoef1[1][0]\n",
    "        print(pear)\n",
    "        TypeArray.append(i[k])\n",
    "        PearArray.append(pear)\n",
    "        k+=1\n",
    "\n",
    "\n",
    "TypeArray = [x for _,x in sorted(zip(PearArray,TypeArray))]\n",
    "PearArray = sorted(PearArray, reverse=True)\n",
    "print(PearArray)\n",
    "print(TypeArray)\n",
    "plt.scatter(TypeArray, PearArray)"
   ]
  },
  {
   "cell_type": "code",
   "execution_count": 54,
   "metadata": {},
   "outputs": [
    {
     "name": "stdout",
     "output_type": "stream",
     "text": [
      "-0.18194031630459018\n",
      "-0.27126194419548544\n",
      "-0.2257001173371099\n",
      "-0.2036476140373074\n",
      "-0.23883649925355688\n",
      "-0.24704890575970997\n",
      "-0.14491406391640035\n",
      "-0.2969477754830165\n",
      "-0.21397309805054818\n",
      "-0.04609667841186007\n",
      "-0.36871815669494995\n",
      "-0.310848477058442\n",
      "[-0.04609667841186007, -0.14491406391640035, -0.18194031630459018, -0.2036476140373074, -0.21397309805054818, -0.2257001173371099, -0.23883649925355688, -0.24704890575970997, -0.27126194419548544, -0.2969477754830165, -0.310848477058442, -0.36871815669494995]\n",
      "['ESTJ', 'ENTJ', 'ENFJ', 'INTJ', 'INTP', 'INFJ', 'INFP', 'ISTP', 'ENTP', 'ISFP', 'ENFP', 'ESFJ']\n"
     ]
    },
    {
     "data": {
      "text/plain": [
       "<matplotlib.collections.PathCollection at 0x7f4f9a81e940>"
      ]
     },
     "execution_count": 54,
     "metadata": {},
     "output_type": "execute_result"
    },
    {
     "data": {
      "image/png": "[encoded data removed]",
      "text/plain": [
       "<Figure size 432x288 with 1 Axes>"
      ]
     },
     "metadata": {
      "needs_background": "light"
     },
     "output_type": "display_data"
    }
   ],
   "source": [
    "i = df['label'].unique()\n",
    "k = 0\n",
    "TypeArray = []\n",
    "PearArray=[]\n",
    "for m in range(0,2):\n",
    "    for n in range(0,6):\n",
    "        df_2 = df[df['label'] == i[k]]\n",
    "        pearsoncoef1=np.corrcoef(x=df_2['words_per_comment'], y=df_2['img_per_comment'])\n",
    "        pear=pearsoncoef1[1][0]\n",
    "        print(pear)\n",
    "        TypeArray.append(i[k])\n",
    "        PearArray.append(pear)\n",
    "        k+=1\n",
    "\n",
    "\n",
    "TypeArray = [x for _,x in sorted(zip(PearArray,TypeArray))]\n",
    "PearArray = sorted(PearArray, reverse=True)\n",
    "print(PearArray)\n",
    "print(TypeArray)\n",
    "plt.scatter(TypeArray, PearArray)"
   ]
  },
  {
   "cell_type": "code",
   "execution_count": 58,
   "metadata": {},
   "outputs": [
    {
     "name": "stdout",
     "output_type": "stream",
     "text": [
      "6940 1735\n"
     ]
    }
   ],
   "source": [
    "\n",
    "X_train = df[df['is_valid'] == False]\n",
    "y_train = X_train['label']\n",
    "X_test = df[df['is_valid'] == True]\n",
    "y_test = X_test['label']\n",
    "print(len(X_train), len(X_test))"
   ]
  },
  {
   "cell_type": "code",
   "execution_count": 59,
   "metadata": {},
   "outputs": [
    {
     "data": {
      "text/html": [
       "<div>\n",
       "<style scoped>\n",
       "    .dataframe tbody tr th:only-of-type {\n",
       "        vertical-align: middle;\n",
       "    }\n",
       "\n",
       "    .dataframe tbody tr th {\n",
       "        vertical-align: top;\n",
       "    }\n",
       "\n",
       "    .dataframe thead th {\n",
       "        text-align: right;\n",
       "    }\n",
       "</style>\n",
       "<table border=\"1\" class=\"dataframe\">\n",
       "  <thead>\n",
       "    <tr style=\"text-align: right;\">\n",
       "      <th></th>\n",
       "      <th>words_per_comment</th>\n",
       "      <th>http_per_comment</th>\n",
       "      <th>music_per_comment</th>\n",
       "      <th>question_per_comment</th>\n",
       "      <th>img_per_comment</th>\n",
       "      <th>excl_per_comment</th>\n",
       "      <th>ellipsis_per_comment</th>\n",
       "      <th>comma_per_comment</th>\n",
       "    </tr>\n",
       "  </thead>\n",
       "  <tbody>\n",
       "    <tr>\n",
       "      <th>0</th>\n",
       "      <td>28.00</td>\n",
       "      <td>0.06</td>\n",
       "      <td>0.04</td>\n",
       "      <td>0.08</td>\n",
       "      <td>0.00</td>\n",
       "      <td>0.04</td>\n",
       "      <td>0.48</td>\n",
       "      <td>1.56</td>\n",
       "    </tr>\n",
       "    <tr>\n",
       "      <th>1</th>\n",
       "      <td>23.48</td>\n",
       "      <td>0.12</td>\n",
       "      <td>0.00</td>\n",
       "      <td>0.14</td>\n",
       "      <td>0.04</td>\n",
       "      <td>0.00</td>\n",
       "      <td>0.78</td>\n",
       "      <td>1.28</td>\n",
       "    </tr>\n",
       "    <tr>\n",
       "      <th>2</th>\n",
       "      <td>15.24</td>\n",
       "      <td>0.30</td>\n",
       "      <td>0.04</td>\n",
       "      <td>0.52</td>\n",
       "      <td>0.00</td>\n",
       "      <td>0.16</td>\n",
       "      <td>0.24</td>\n",
       "      <td>0.88</td>\n",
       "    </tr>\n",
       "    <tr>\n",
       "      <th>4</th>\n",
       "      <td>15.08</td>\n",
       "      <td>0.70</td>\n",
       "      <td>0.02</td>\n",
       "      <td>0.70</td>\n",
       "      <td>0.02</td>\n",
       "      <td>0.08</td>\n",
       "      <td>0.40</td>\n",
       "      <td>0.96</td>\n",
       "    </tr>\n",
       "    <tr>\n",
       "      <th>6</th>\n",
       "      <td>20.62</td>\n",
       "      <td>0.14</td>\n",
       "      <td>0.04</td>\n",
       "      <td>0.34</td>\n",
       "      <td>0.02</td>\n",
       "      <td>0.08</td>\n",
       "      <td>0.56</td>\n",
       "      <td>0.62</td>\n",
       "    </tr>\n",
       "  </tbody>\n",
       "</table>\n",
       "</div>"
      ],
      "text/plain": [
       "   words_per_comment  http_per_comment  music_per_comment  \\\n",
       "0              28.00              0.06               0.04   \n",
       "1              23.48              0.12               0.00   \n",
       "2              15.24              0.30               0.04   \n",
       "4              15.08              0.70               0.02   \n",
       "6              20.62              0.14               0.04   \n",
       "\n",
       "   question_per_comment  img_per_comment  excl_per_comment  \\\n",
       "0                  0.08             0.00              0.04   \n",
       "1                  0.14             0.04              0.00   \n",
       "2                  0.52             0.00              0.16   \n",
       "4                  0.70             0.02              0.08   \n",
       "6                  0.34             0.02              0.08   \n",
       "\n",
       "   ellipsis_per_comment  comma_per_comment  \n",
       "0                  0.48               1.56  \n",
       "1                  0.78               1.28  \n",
       "2                  0.24               0.88  \n",
       "4                  0.40               0.96  \n",
       "6                  0.56               0.62  "
      ]
     },
     "execution_count": 59,
     "metadata": {},
     "output_type": "execute_result"
    }
   ],
   "source": [
    "\n",
    "X_train = X_train.drop(['label','text','is_valid'], axis=1)\n",
    "X_test = X_test.drop(['label','text', 'is_valid'], axis=1)\n",
    "X_train.head()"
   ]
  },
  {
   "cell_type": "code",
   "execution_count": 61,
   "metadata": {
    "_uuid": "30168f35c770296823db30dfedad1146ee8042b7",
    "collapsed": true
   },
   "outputs": [
    {
     "name": "stdout",
     "output_type": "stream",
     "text": [
      "19.25 %\n"
     ]
    }
   ],
   "source": [
    "# Random Forest\n",
    "random_forest = RandomForestClassifier(n_estimators=100)\n",
    "random_forest.fit(X_train, y_train)\n",
    "Y_prediction = random_forest.predict(X_test)\n",
    "acc_random_forest = round(random_forest.score(X_test, y_test) * 100, 2)\n",
    "print(round(acc_random_forest,2,), \"%\")"
   ]
  },
  {
   "cell_type": "code",
   "execution_count": null,
   "metadata": {},
   "outputs": [],
   "source": []
  }
 ],
 "metadata": {
  "kernelspec": {
   "display_name": "Python 3",
   "language": "python",
   "name": "python3"
  },
  "language_info": {
   "codemirror_mode": {
    "name": "ipython",
    "version": 3
   },
   "file_extension": ".py",
   "mimetype": "text/x-python",
   "name": "python",
   "nbconvert_exporter": "python",
   "pygments_lexer": "ipython3",
   "version": "3.7.1"
  }
 },
 "nbformat": 4,
 "nbformat_minor": 2
}
