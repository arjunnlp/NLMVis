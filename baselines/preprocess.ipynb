{
 "cells": [
  {
   "cell_type": "code",
   "execution_count": 1,
   "metadata": {
    "_cell_guid": "0e10c6de-685a-4e93-9925-7d73cb27497c",
    "_uuid": "a0f7e95a8994cea779577c48c3d22cde3fdf2cc5",
    "collapsed": true
   },
   "outputs": [
    {
     "data": {
      "text/html": [
       "<div>\n",
       "<style scoped>\n",
       "    .dataframe tbody tr th:only-of-type {\n",
       "        vertical-align: middle;\n",
       "    }\n",
       "\n",
       "    .dataframe tbody tr th {\n",
       "        vertical-align: top;\n",
       "    }\n",
       "\n",
       "    .dataframe thead th {\n",
       "        text-align: right;\n",
       "    }\n",
       "</style>\n",
       "<table border=\"1\" class=\"dataframe\">\n",
       "  <thead>\n",
       "    <tr style=\"text-align: right;\">\n",
       "      <th></th>\n",
       "      <th>label</th>\n",
       "      <th>text</th>\n",
       "      <th>is_valid</th>\n",
       "    </tr>\n",
       "  </thead>\n",
       "  <tbody>\n",
       "    <tr>\n",
       "      <th>0</th>\n",
       "      <td>ISFP</td>\n",
       "      <td>'He sounds like he likes you, if you really wa...</td>\n",
       "      <td>False</td>\n",
       "    </tr>\n",
       "    <tr>\n",
       "      <th>1</th>\n",
       "      <td>INTJ</td>\n",
       "      <td>'I saved a dog's life today in the most cliche...</td>\n",
       "      <td>False</td>\n",
       "    </tr>\n",
       "    <tr>\n",
       "      <th>2</th>\n",
       "      <td>INFP</td>\n",
       "      <td>'https://www.youtube.com/watch?time_continue=2...</td>\n",
       "      <td>False</td>\n",
       "    </tr>\n",
       "    <tr>\n",
       "      <th>3</th>\n",
       "      <td>ENTP</td>\n",
       "      <td>'Tell me about it!!|||When I apologised for up...</td>\n",
       "      <td>True</td>\n",
       "    </tr>\n",
       "    <tr>\n",
       "      <th>4</th>\n",
       "      <td>INTJ</td>\n",
       "      <td>'If you ever meet someone you get along with i...</td>\n",
       "      <td>False</td>\n",
       "    </tr>\n",
       "    <tr>\n",
       "      <th>5</th>\n",
       "      <td>INFJ</td>\n",
       "      <td>'https://i.chzbgr.com/completestore/12/9/12/4J...</td>\n",
       "      <td>True</td>\n",
       "    </tr>\n",
       "    <tr>\n",
       "      <th>6</th>\n",
       "      <td>ISFP</td>\n",
       "      <td>'I'm lovin' this. The live chat is hilarious. ...</td>\n",
       "      <td>False</td>\n",
       "    </tr>\n",
       "    <tr>\n",
       "      <th>7</th>\n",
       "      <td>INFJ</td>\n",
       "      <td>'Not true. I have contacts whom I have contact...</td>\n",
       "      <td>False</td>\n",
       "    </tr>\n",
       "    <tr>\n",
       "      <th>8</th>\n",
       "      <td>INFP</td>\n",
       "      <td>The bulk of humanity is just evil.....I want m...</td>\n",
       "      <td>False</td>\n",
       "    </tr>\n",
       "    <tr>\n",
       "      <th>9</th>\n",
       "      <td>INTP</td>\n",
       "      <td>'keep it coming, people this entp interaction ...</td>\n",
       "      <td>True</td>\n",
       "    </tr>\n",
       "  </tbody>\n",
       "</table>\n",
       "</div>"
      ],
      "text/plain": [
       "  label                                               text  is_valid\n",
       "0  ISFP  'He sounds like he likes you, if you really wa...     False\n",
       "1  INTJ  'I saved a dog's life today in the most cliche...     False\n",
       "2  INFP  'https://www.youtube.com/watch?time_continue=2...     False\n",
       "3  ENTP  'Tell me about it!!|||When I apologised for up...      True\n",
       "4  INTJ  'If you ever meet someone you get along with i...     False\n",
       "5  INFJ  'https://i.chzbgr.com/completestore/12/9/12/4J...      True\n",
       "6  ISFP  'I'm lovin' this. The live chat is hilarious. ...     False\n",
       "7  INFJ  'Not true. I have contacts whom I have contact...     False\n",
       "8  INFP  The bulk of humanity is just evil.....I want m...     False\n",
       "9  INTP  'keep it coming, people this entp interaction ...      True"
      ]
     },
     "execution_count": 1,
     "metadata": {},
     "output_type": "execute_result"
    }
   ],
   "source": [
    "import pandas as pd\n",
    "import numpy as np\n",
    "import re\n",
    "import seaborn as sns\n",
    "import matplotlib.pyplot as plt\n",
    "from numpy import loadtxt\n",
    "%matplotlib inline\n",
    "\n",
    "# read data\n",
    "df = pd.read_parquet('../data/mbti_1.pqt')\n",
    "df.head(10)"
   ]
  },
  {
   "cell_type": "code",
   "execution_count": 2,
   "metadata": {
    "_cell_guid": "de987f70-aab9-45f0-958c-e40118a044e1",
    "_uuid": "9ed4e6e21c4ff484425bb8ba73fa901253e78e2c"
   },
   "outputs": [
    {
     "data": {
      "image/png": "[encoded data removed]",
      "text/plain": [
       "<Figure size 864x288 with 1 Axes>"
      ]
     },
     "metadata": {
      "needs_background": "light"
     },
     "output_type": "display_data"
    }
   ],
   "source": [
    "cnt_types = df['label'].value_counts()\n",
    "\n",
    "plt.figure(figsize=(12,4))\n",
    "sns.barplot(cnt_types.index, cnt_types.values, alpha=0.8)\n",
    "plt.ylabel('Number of Occurrences', fontsize=12)\n",
    "plt.xlabel('Types', fontsize=12)\n",
    "plt.show()"
   ]
  },
  {
   "cell_type": "markdown",
   "metadata": {
    "_cell_guid": "85d7b45f-d1bc-4d1e-a179-73bfe427fdd4",
    "_uuid": "f00d268818a332dd819e3eaa54cf1d8bd4523cb5"
   },
   "source": [
    "### Add columns for the type Indicators"
   ]
  },
  {
   "cell_type": "code",
   "execution_count": 3,
   "metadata": {
    "_cell_guid": "94fe02d5-753c-4a2c-bd10-dc3efb44ad80",
    "_uuid": "56607eaad0911f4987c919ca9935203db90550ea"
   },
   "outputs": [
    {
     "data": {
      "text/html": [
       "<div>\n",
       "<style scoped>\n",
       "    .dataframe tbody tr th:only-of-type {\n",
       "        vertical-align: middle;\n",
       "    }\n",
       "\n",
       "    .dataframe tbody tr th {\n",
       "        vertical-align: top;\n",
       "    }\n",
       "\n",
       "    .dataframe thead th {\n",
       "        text-align: right;\n",
       "    }\n",
       "</style>\n",
       "<table border=\"1\" class=\"dataframe\">\n",
       "  <thead>\n",
       "    <tr style=\"text-align: right;\">\n",
       "      <th></th>\n",
       "      <th>label</th>\n",
       "      <th>text</th>\n",
       "      <th>is_valid</th>\n",
       "      <th>IE</th>\n",
       "      <th>NS</th>\n",
       "      <th>TF</th>\n",
       "      <th>JP</th>\n",
       "    </tr>\n",
       "  </thead>\n",
       "  <tbody>\n",
       "    <tr>\n",
       "      <th>0</th>\n",
       "      <td>ISFP</td>\n",
       "      <td>'He sounds like he likes you, if you really wa...</td>\n",
       "      <td>False</td>\n",
       "      <td>1</td>\n",
       "      <td>0</td>\n",
       "      <td>0</td>\n",
       "      <td>0</td>\n",
       "    </tr>\n",
       "    <tr>\n",
       "      <th>1</th>\n",
       "      <td>INTJ</td>\n",
       "      <td>'I saved a dog's life today in the most cliche...</td>\n",
       "      <td>False</td>\n",
       "      <td>1</td>\n",
       "      <td>1</td>\n",
       "      <td>1</td>\n",
       "      <td>1</td>\n",
       "    </tr>\n",
       "    <tr>\n",
       "      <th>2</th>\n",
       "      <td>INFP</td>\n",
       "      <td>'https://www.youtube.com/watch?time_continue=2...</td>\n",
       "      <td>False</td>\n",
       "      <td>1</td>\n",
       "      <td>1</td>\n",
       "      <td>0</td>\n",
       "      <td>0</td>\n",
       "    </tr>\n",
       "    <tr>\n",
       "      <th>3</th>\n",
       "      <td>ENTP</td>\n",
       "      <td>'Tell me about it!!|||When I apologised for up...</td>\n",
       "      <td>True</td>\n",
       "      <td>0</td>\n",
       "      <td>1</td>\n",
       "      <td>1</td>\n",
       "      <td>0</td>\n",
       "    </tr>\n",
       "    <tr>\n",
       "      <th>4</th>\n",
       "      <td>INTJ</td>\n",
       "      <td>'If you ever meet someone you get along with i...</td>\n",
       "      <td>False</td>\n",
       "      <td>1</td>\n",
       "      <td>1</td>\n",
       "      <td>1</td>\n",
       "      <td>1</td>\n",
       "    </tr>\n",
       "  </tbody>\n",
       "</table>\n",
       "</div>"
      ],
      "text/plain": [
       "  label                                               text  is_valid  IE  NS  \\\n",
       "0  ISFP  'He sounds like he likes you, if you really wa...     False   1   0   \n",
       "1  INTJ  'I saved a dog's life today in the most cliche...     False   1   1   \n",
       "2  INFP  'https://www.youtube.com/watch?time_continue=2...     False   1   1   \n",
       "3  ENTP  'Tell me about it!!|||When I apologised for up...      True   0   1   \n",
       "4  INTJ  'If you ever meet someone you get along with i...     False   1   1   \n",
       "\n",
       "   TF  JP  \n",
       "0   0   0  \n",
       "1   1   1  \n",
       "2   0   0  \n",
       "3   1   0  \n",
       "4   1   1  "
      ]
     },
     "execution_count": 3,
     "metadata": {},
     "output_type": "execute_result"
    }
   ],
   "source": [
    "type_indicators = [ \"IE: Introversion (I) / Extroversion (E)\", \"NS: Intuition (N) / Sensing (S)\", \n",
    "                   \"FT: Feeling (F) / Thinking (T)\", \"JP: Judging (J) / Perceiving (P)\"  ]\n",
    "\n",
    "def get_types(row):\n",
    "    t=row['label']\n",
    "\n",
    "    I = 0; N = 0\n",
    "    T = 0; J = 0\n",
    "    \n",
    "    if t[0] == 'I': I = 1\n",
    "    elif t[0] == 'E': I = 0\n",
    "    else: print('I-E incorrect')\n",
    "        \n",
    "    if t[1] == 'N': N = 1\n",
    "    elif t[1] == 'S': N = 0\n",
    "    else: print('N-S incorrect')\n",
    "        \n",
    "    if t[2] == 'T': T = 1\n",
    "    elif t[2] == 'F': T = 0\n",
    "    else: print('T-F incorrect')\n",
    "        \n",
    "    if t[3] == 'J': J = 1\n",
    "    elif t[3] == 'P': J = 0\n",
    "    else: print('J-P incorrect')\n",
    "    return pd.Series( {'IE':I, 'NS':N , 'TF': T, 'JP': J }) \n",
    "\n",
    "df = df.join(df.apply (lambda row: get_types (row),axis=1))\n",
    "df.head(5)"
   ]
  },
  {
   "cell_type": "code",
   "execution_count": 4,
   "metadata": {
    "_cell_guid": "f64d512c-d2b2-4494-832b-79c32eeba584",
    "_uuid": "cb604f55d0de8d78f8f8739673661eb2c9976303"
   },
   "outputs": [
    {
     "name": "stdout",
     "output_type": "stream",
     "text": [
      "Introversion (I) vs  Extroversion (E):\t 1999  /  6676\n",
      "Intuition (N) vs Sensing (S):\t\t 1197  /  7478\n",
      "Thinking (T) vs Feeling (F):\t\t 4694  /  3981\n",
      "Judging (J) vs Perceiving (P):\t\t 5241  /  3434\n"
     ]
    }
   ],
   "source": [
    "print (\"Introversion (I) vs  Extroversion (E):\\t\", df['IE'].value_counts()[0], \" / \", df['IE'].value_counts()[1])\n",
    "print (\"Intuition (N) vs Sensing (S):\\t\\t\", df['NS'].value_counts()[0], \" / \", df['NS'].value_counts()[1])\n",
    "print (\"Thinking (T) vs Feeling (F):\\t\\t\", df['TF'].value_counts()[0], \" / \", df['TF'].value_counts()[1])\n",
    "print (\"Judging (J) vs Perceiving (P):\\t\\t\", df['JP'].value_counts()[0], \" / \", df['JP'].value_counts()[1])"
   ]
  },
  {
   "cell_type": "code",
   "execution_count": 5,
   "metadata": {
    "_cell_guid": "106d4032-2cb6-424e-95af-ee73643c4ea9",
    "_uuid": "71300a00fb90466c0fe86e131d0f1dc158cb4765"
   },
   "outputs": [
    {
     "data": {
      "image/png": "[encoded data removed]",
      "text/plain": [
       "<Figure size 432x288 with 1 Axes>"
      ]
     },
     "metadata": {
      "needs_background": "light"
     },
     "output_type": "display_data"
    }
   ],
   "source": [
    "N = 4\n",
    "but = (df['IE'].value_counts()[0], df['NS'].value_counts()[0], df['TF'].value_counts()[0], df['JP'].value_counts()[0])\n",
    "top = (df['IE'].value_counts()[1], df['NS'].value_counts()[1], df['TF'].value_counts()[1], df['JP'].value_counts()[1])\n",
    "\n",
    "ind = np.arange(N)    # the x locations for the groups\n",
    "width = 0.7      # the width of the bars: can also be len(x) sequence\n",
    "\n",
    "p1 = plt.bar(ind, but, width)\n",
    "p2 = plt.bar(ind, top, width, bottom=but)\n",
    "\n",
    "plt.ylabel('Count')\n",
    "plt.title('Distribution accoss types indicators')\n",
    "plt.xticks(ind, ('I/E',  'N/S', 'T/F', 'J/P',))\n",
    "\n",
    "plt.show()"
   ]
  },
  {
   "cell_type": "code",
   "execution_count": 6,
   "metadata": {
    "_cell_guid": "8ab0a44e-70c7-4876-aa9c-fd6a552ecf94",
    "_uuid": "5c0185231d1dec0773ac8574677dec7a641d5409"
   },
   "outputs": [
    {
     "name": "stdout",
     "output_type": "stream",
     "text": [
      "Binarize MBTI list: \n",
      "[[0 1 0 1]\n",
      " [0 0 1 0]\n",
      " [0 0 0 1]\n",
      " [1 0 1 1]]\n"
     ]
    }
   ],
   "source": [
    "b_Pers = {'I':0, 'E':1, 'N':0, 'S':1, 'F':0, 'T':1, 'J':0, 'P':1}\n",
    "b_Pers_list = [{0:'I', 1:'E'}, {0:'N', 1:'S'}, {0:'F', 1:'T'}, {0:'J', 1:'P'}]\n",
    "\n",
    "def translate_personality(personality):\n",
    "    # transform mbti to binary vector\n",
    "    \n",
    "    return [b_Pers[l] for l in personality]\n",
    "\n",
    "def translate_back(personality):\n",
    "    # transform binary vector to mbti personality\n",
    "    \n",
    "    s = \"\"\n",
    "    for i, l in enumerate(personality):\n",
    "        s += b_Pers_list[i][l]\n",
    "    return s\n",
    "\n",
    "# Check ...\n",
    "d = df.head(4)\n",
    "list_personality_bin = np.array([translate_personality(p) for p in d.label])\n",
    "print(\"Binarize MBTI list: \\n%s\" % list_personality_bin)\n"
   ]
  },
  {
   "cell_type": "markdown",
   "metadata": {
    "_cell_guid": "0cb4844b-3205-4eed-9af5-949c79de3fcd",
    "_uuid": "e3d320caec234f9b36f1eb5221764f94b73ec608"
   },
   "source": [
    "### Preprocessing posts\n",
    "* Remove urls \n",
    "* Keep only words and put everything lowercase\n",
    "* Lemmatize each word \n",
    "* __Remove MBTI profiles strings. Too many appear in the posts!__"
   ]
  },
  {
   "cell_type": "code",
   "execution_count": 7,
   "metadata": {
    "_cell_guid": "e1421b79-1fa2-4a4a-bccf-e234223a9bd6",
    "_uuid": "77420dbbc4a8f7ff8984f342562b505571dfe677",
    "collapsed": true
   },
   "outputs": [],
   "source": [
    "##### Compute list of subject with Type | list of comments \n",
    "from nltk.stem import PorterStemmer, WordNetLemmatizer\n",
    "from nltk.corpus import stopwords \n",
    "from nltk import word_tokenize\n",
    "\n",
    "# We want to remove these from the psosts\n",
    "unique_type_list = ['INFJ', 'ENTP', 'INTP', 'INTJ', 'ENTJ', 'ENFJ', 'INFP', 'ENFP',\n",
    "       'ISFP', 'ISTP', 'ISFJ', 'ISTJ', 'ESTP', 'ESFP', 'ESTJ', 'ESFJ']\n",
    "  \n",
    "unique_type_list = [x.lower() for x in unique_type_list]\n",
    "\n",
    "\n",
    "# Lemmatize\n",
    "stemmer = PorterStemmer()\n",
    "lemmatiser = WordNetLemmatizer()\n",
    "\n",
    "# Cache the stop words for speed \n",
    "cachedStopWords = stopwords.words(\"english\")\n",
    "\n",
    "def pre_process_data(data, remove_stop_words=True, remove_mbti_profiles=True):\n",
    "\n",
    "    list_personality = []\n",
    "    list_posts = []\n",
    "    len_data = len(data)\n",
    "    i=0\n",
    "    is_valid = []\n",
    "    \n",
    "    for row in data.iterrows():\n",
    "        i+=1\n",
    "        if (i % 500 == 0 or i == 1 or i == len_data):\n",
    "            print(\"%s of %s rows\" % (i, len_data))\n",
    "\n",
    "        ##### Remove and clean comments\n",
    "        posts = row[1].text\n",
    "        temp = re.sub('http[s]?://(?:[a-zA-Z]|[0-9]|[$-_@.&+]|(?:%[0-9a-fA-F][0-9a-fA-F]))+', ' ', posts)\n",
    "        temp = re.sub(\"[^a-zA-Z]\", \" \", temp)\n",
    "        temp = re.sub(' +', ' ', temp).lower()\n",
    "        if remove_stop_words:\n",
    "            temp = \" \".join([lemmatiser.lemmatize(w) for w in temp.split(' ') if w not in cachedStopWords])\n",
    "        else:\n",
    "            temp = \" \".join([lemmatiser.lemmatize(w) for w in temp.split(' ')])\n",
    "            \n",
    "        if remove_mbti_profiles:\n",
    "            for t in unique_type_list:\n",
    "                temp = temp.replace(t,\"\")\n",
    "\n",
    "        type_labelized = translate_personality(row[1].label)\n",
    "        list_personality.append(type_labelized)\n",
    "        list_posts.append(temp)\n",
    "\n",
    "    list_posts = np.array(list_posts)\n",
    "    list_personality = np.array(list_personality)\n",
    "\n",
    "    return list_posts, list_personality"
   ]
  },
  {
   "cell_type": "code",
   "execution_count": 8,
   "metadata": {
    "_cell_guid": "44464e11-d570-4a70-8044-e4631917c89e",
    "_uuid": "501d30b844b84cd6e1fa54545b792183b73b0b51"
   },
   "outputs": [
    {
     "name": "stdout",
     "output_type": "stream",
     "text": [
      "1 of 6940 rows\n",
      "500 of 6940 rows\n",
      "1000 of 6940 rows\n",
      "1500 of 6940 rows\n",
      "2000 of 6940 rows\n",
      "2500 of 6940 rows\n",
      "3000 of 6940 rows\n",
      "3500 of 6940 rows\n",
      "4000 of 6940 rows\n",
      "4500 of 6940 rows\n",
      "5000 of 6940 rows\n",
      "5500 of 6940 rows\n",
      "6000 of 6940 rows\n",
      "6500 of 6940 rows\n",
      "6940 of 6940 rows\n",
      "1 of 1735 rows\n",
      "500 of 1735 rows\n",
      "1000 of 1735 rows\n",
      "1500 of 1735 rows\n",
      "1735 of 1735 rows\n",
      "Num posts and personalities train:  (6940,) (6940, 4)\n",
      "Num posts and personalities test:  (1735,) (1735, 4)\n"
     ]
    }
   ],
   "source": [
    "train = df[df['is_valid'] == False]\n",
    "test = df[df['is_valid'] == True]\n",
    "\n",
    "X_train, y_train  = pre_process_data(train, remove_stop_words=True)\n",
    "X_test, y_test  = pre_process_data(test, remove_stop_words=True)\n",
    "print(\"Num posts and personalities train: \",  X_train.shape, y_train.shape)\n",
    "print(\"Num posts and personalities test: \",  X_test.shape, y_test.shape)"
   ]
  },
  {
   "cell_type": "code",
   "execution_count": 9,
   "metadata": {},
   "outputs": [],
   "source": [
    "np.save('X_train.npy', X_train)\n",
    "np.save('X_test.npy', X_test)\n",
    "np.save('y_train.npy', y_train)\n",
    "np.save('y_test.npy', y_test)"
   ]
  },
  {
   "cell_type": "code",
   "execution_count": null,
   "metadata": {},
   "outputs": [],
   "source": []
  }
 ],
 "metadata": {
  "kernelspec": {
   "display_name": "Python 3",
   "language": "python",
   "name": "python3"
  },
  "language_info": {
   "codemirror_mode": {
    "name": "ipython",
    "version": 3
   },
   "file_extension": ".py",
   "mimetype": "text/x-python",
   "name": "python",
   "nbconvert_exporter": "python",
   "pygments_lexer": "ipython3",
   "version": "3.7.1"
  }
 },
 "nbformat": 4,
 "nbformat_minor": 2
}
