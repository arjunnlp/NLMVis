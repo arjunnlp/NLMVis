{
 "cells": [
  {
   "cell_type": "code",
   "execution_count": 1,
   "metadata": {},
   "outputs": [],
   "source": [
    "%matplotlib inline\n",
    "%load_ext autoreload\n",
    "%autoreload 2\n",
    "from ipyexperiments import *\n",
    "from fastai import *\n",
    "from fastai.text import *\n",
    "import pandas as pd\n",
    "import numpy as np\n",
    "from path import Path"
   ]
  },
  {
   "cell_type": "code",
   "execution_count": 2,
   "metadata": {},
   "outputs": [
    {
     "name": "stdout",
     "output_type": "stream",
     "text": [
      "･ RAM:  △Consumed    △Peaked    Used Total | Exec time 0:01:24.058\n",
      "･ CPU:        242        524      4,123 MB |\n",
      "･ GPU:        -85          0      1,616 MB |\n",
      "\n",
      "IPyExperimentsPytorch: Finishing\n",
      "\n",
      "*** Experiment finished in 00:01:26 (elapsed wallclock time)\n",
      "\n",
      "*** Newly defined local variables:\n",
      "Deleted: data_lm, df, train, val\n",
      "\n",
      "*** Circular ref objects gc collected during the experiment:\n",
      "cleared 7 objects (only temporary leakage)\n",
      "\n",
      "*** Experiment memory:\n",
      "RAM: Consumed       Reclaimed\n",
      "CPU:    1,806      472 MB ( 26.15%)\n",
      "GPU:      -85        0 MB ( -0.00%)\n",
      "\n",
      "*** Current state:\n",
      "RAM:    Used    Free   Total       Util\n",
      "CPU:   3,651  49,204  64,352 MB   5.67% \n",
      "GPU:   1,616   6,501   8,117 MB  19.91% \n",
      "\n",
      "\n"
     ]
    }
   ],
   "source": [
    "MODELS = Path('../models')\n",
    "DATA = Path('../data')\n",
    "\n",
    "with IPyExperimentsPytorch():\n",
    "    df = pd.read_parquet(DATA / 'mbti_1.pqt', 'fastparquet')\n",
    "    train = df[df.is_valid == False]\n",
    "    val = df[df.is_valid == True]\n",
    "    data_lm = TextLMDataBunch.from_df(MODELS/'AWD_LSTM', train, val)\n",
    "    data_lm.save('data_lm_export.pkl')\n"
   ]
  },
  {
   "cell_type": "code",
   "execution_count": 7,
   "metadata": {},
   "outputs": [],
   "source": []
  },
  {
   "cell_type": "code",
   "execution_count": 8,
   "metadata": {},
   "outputs": [],
   "source": []
  },
  {
   "cell_type": "code",
   "execution_count": null,
   "metadata": {},
   "outputs": [],
   "source": []
  }
 ],
 "metadata": {
  "kernelspec": {
   "display_name": "Python 3",
   "language": "python",
   "name": "python3"
  },
  "language_info": {
   "codemirror_mode": {
    "name": "ipython",
    "version": 3
   },
   "file_extension": ".py",
   "mimetype": "text/x-python",
   "name": "python",
   "nbconvert_exporter": "python",
   "pygments_lexer": "ipython3",
   "version": "3.7.1"
  }
 },
 "nbformat": 4,
 "nbformat_minor": 2
}
