{
 "cells": [
  {
   "cell_type": "code",
   "execution_count": 1,
   "metadata": {},
   "outputs": [],
   "source": [
    "%matplotlib inline\n",
    "%load_ext autoreload\n",
    "%autoreload 2\n",
    "from ipyexperiments import *\n",
    "from fastai import *\n",
    "from fastai.text import *\n",
    "import pandas as pd\n",
    "import numpy as np\n",
    "from path import Path"
   ]
  },
  {
   "cell_type": "code",
   "execution_count": 2,
   "metadata": {},
   "outputs": [],
   "source": [
    "MODELS = Path('./models/AWD_LSTM')\n",
    "DATA = Path('./data')\n",
    "\n",
    "df = pd.read_parquet(DATA / 'mbti_1.pqt', 'fastparquet')\n",
    "train = df[df.is_valid == False]\n",
    "val = df[df.is_valid == True]\n"
   ]
  },
  {
   "cell_type": "code",
   "execution_count": 4,
   "metadata": {},
   "outputs": [
    {
     "name": "stdout",
     "output_type": "stream",
     "text": [
      "\n",
      "*** Experiment started with the Pytorch backend\n",
      "Device: ID 0, GeForce GTX 1070 (8117 RAM)\n",
      "\n",
      "\n",
      "*** Current state:\n",
      "RAM:    Used    Free   Total       Util\n",
      "CPU:   2,778  48,954  64,352 MB   4.32% \n",
      "GPU:   1,600   6,517   8,117 MB  19.71% \n",
      "\n",
      "\n",
      "･ RAM:  △Consumed    △Peaked    Used Total | Exec time 0:00:00.180\n",
      "･ CPU:          0          0      2,778 MB |\n",
      "･ GPU:          4          2      1,600 MB |\n",
      "\n",
      "IPyExperimentsPytorch: Finishing\n",
      "\n",
      "*** Experiment finished in 02:08:45 (elapsed wallclock time)\n",
      "\n",
      "*** Newly defined local variables:\n",
      "Deleted: data_lm\n",
      "\n",
      "*** Experiment memory:\n",
      "RAM: Consumed       Reclaimed\n",
      "CPU:      329        4 MB (  1.35%)\n",
      "GPU:        4        0 MB (  0.00%)\n",
      "\n",
      "*** Current state:\n",
      "RAM:    Used    Free   Total       Util\n",
      "CPU:   2,774  48,958  64,352 MB   4.31% \n",
      "GPU:   1,600   6,517   8,117 MB  19.71% \n",
      "\n",
      "\n",
      "･ RAM:  △Consumed    △Peaked    Used Total | Exec time 0:00:03.794\n",
      "･ CPU:          0          0      2,859 MB |\n",
      "･ GPU:        234          8      1,834 MB |\n"
     ]
    }
   ],
   "source": [
    "exp1 = IPyExperimentsPytorch()\n",
    "\n",
    "data_lm = load_data(MODELS,'data_lm_export.pkl')\n",
    "learn = language_model_learner(data_lm, arch=AWD_LSTM )"
   ]
  },
  {
   "cell_type": "code",
   "execution_count": 5,
   "metadata": {},
   "outputs": [
    {
     "data": {
      "text/html": [],
      "text/plain": [
       "<IPython.core.display.HTML object>"
      ]
     },
     "metadata": {},
     "output_type": "display_data"
    },
    {
     "name": "stdout",
     "output_type": "stream",
     "text": [
      "LR Finder is complete, type {learner_name}.recorder.plot() to see the graph.\n"
     ]
    },
    {
     "data": {
      "image/png": "[encoded data removed]",
      "text/plain": [
       "<Figure size 432x288 with 1 Axes>"
      ]
     },
     "metadata": {
      "needs_background": "light"
     },
     "output_type": "display_data"
    },
    {
     "name": "stdout",
     "output_type": "stream",
     "text": [
      "･ RAM:  △Consumed    △Peaked    Used Total | Exec time 0:00:33.478\n",
      "･ CPU:          0          2      2,888 MB |\n",
      "･ GPU:        406      5,249      2,240 MB |\n"
     ]
    }
   ],
   "source": [
    "learn.lr_find()\n",
    "learn.recorder.plot()"
   ]
  },
  {
   "cell_type": "code",
   "execution_count": 6,
   "metadata": {},
   "outputs": [
    {
     "data": {
      "text/html": [
       "Total time: 15:23 <p><table border=\"1\" class=\"dataframe\">\n",
       "  <thead>\n",
       "    <tr style=\"text-align: left;\">\n",
       "      <th>epoch</th>\n",
       "      <th>train_loss</th>\n",
       "      <th>valid_loss</th>\n",
       "      <th>accuracy</th>\n",
       "      <th>time</th>\n",
       "    </tr>\n",
       "  </thead>\n",
       "  <tbody>\n",
       "    <tr>\n",
       "      <td>0</td>\n",
       "      <td>4.700811</td>\n",
       "      <td>4.366804</td>\n",
       "      <td>0.242623</td>\n",
       "      <td>15:23</td>\n",
       "    </tr>\n",
       "  </tbody>\n",
       "</table>"
      ],
      "text/plain": [
       "<IPython.core.display.HTML object>"
      ]
     },
     "metadata": {},
     "output_type": "display_data"
    },
    {
     "data": {
      "text/html": [
       "Total time: 2:55:42 <p><table border=\"1\" class=\"dataframe\">\n",
       "  <thead>\n",
       "    <tr style=\"text-align: left;\">\n",
       "      <th>epoch</th>\n",
       "      <th>train_loss</th>\n",
       "      <th>valid_loss</th>\n",
       "      <th>accuracy</th>\n",
       "      <th>time</th>\n",
       "    </tr>\n",
       "  </thead>\n",
       "  <tbody>\n",
       "    <tr>\n",
       "      <td>0</td>\n",
       "      <td>4.469680</td>\n",
       "      <td>4.251969</td>\n",
       "      <td>0.253254</td>\n",
       "      <td>17:53</td>\n",
       "    </tr>\n",
       "    <tr>\n",
       "      <td>1</td>\n",
       "      <td>4.392018</td>\n",
       "      <td>4.133133</td>\n",
       "      <td>0.265819</td>\n",
       "      <td>17:40</td>\n",
       "    </tr>\n",
       "    <tr>\n",
       "      <td>2</td>\n",
       "      <td>4.264731</td>\n",
       "      <td>4.047349</td>\n",
       "      <td>0.274892</td>\n",
       "      <td>17:39</td>\n",
       "    </tr>\n",
       "    <tr>\n",
       "      <td>3</td>\n",
       "      <td>4.171680</td>\n",
       "      <td>3.991757</td>\n",
       "      <td>0.281432</td>\n",
       "      <td>17:28</td>\n",
       "    </tr>\n",
       "    <tr>\n",
       "      <td>4</td>\n",
       "      <td>4.139320</td>\n",
       "      <td>3.955577</td>\n",
       "      <td>0.285707</td>\n",
       "      <td>17:31</td>\n",
       "    </tr>\n",
       "    <tr>\n",
       "      <td>5</td>\n",
       "      <td>4.091193</td>\n",
       "      <td>3.927975</td>\n",
       "      <td>0.289342</td>\n",
       "      <td>17:30</td>\n",
       "    </tr>\n",
       "    <tr>\n",
       "      <td>6</td>\n",
       "      <td>4.067306</td>\n",
       "      <td>3.910633</td>\n",
       "      <td>0.291621</td>\n",
       "      <td>17:25</td>\n",
       "    </tr>\n",
       "    <tr>\n",
       "      <td>7</td>\n",
       "      <td>4.012954</td>\n",
       "      <td>3.898835</td>\n",
       "      <td>0.292884</td>\n",
       "      <td>17:27</td>\n",
       "    </tr>\n",
       "    <tr>\n",
       "      <td>8</td>\n",
       "      <td>3.989483</td>\n",
       "      <td>3.893325</td>\n",
       "      <td>0.293600</td>\n",
       "      <td>17:28</td>\n",
       "    </tr>\n",
       "    <tr>\n",
       "      <td>9</td>\n",
       "      <td>3.979686</td>\n",
       "      <td>3.892325</td>\n",
       "      <td>0.293740</td>\n",
       "      <td>17:37</td>\n",
       "    </tr>\n",
       "  </tbody>\n",
       "</table>"
      ],
      "text/plain": [
       "<IPython.core.display.HTML object>"
      ]
     },
     "metadata": {},
     "output_type": "display_data"
    },
    {
     "name": "stdout",
     "output_type": "stream",
     "text": [
      "･ RAM:  △Consumed    △Peaked    Used Total | Exec time 3:11:05.809\n",
      "･ CPU:          3          0      2,892 MB |\n",
      "･ GPU:      1,425      4,229      3,666 MB |\n"
     ]
    }
   ],
   "source": [
    "learn.fit_one_cycle(1, 2e-02)\n",
    "learn.unfreeze()\n",
    "learn.fit_one_cycle(10)\n"
   ]
  },
  {
   "cell_type": "code",
   "execution_count": 9,
   "metadata": {},
   "outputs": [
    {
     "name": "stdout",
     "output_type": "stream",
     "text": [
      "･ RAM:  △Consumed    △Peaked    Used Total | Exec time 0:00:12.600\n",
      "･ CPU:          0          0      2,904 MB |\n",
      "･ GPU:          0          0      4,111 MB |\n"
     ]
    }
   ],
   "source": [
    "learn.save('awd1')\n",
    "learn.save_encoder('awd1')"
   ]
  },
  {
   "cell_type": "code",
   "execution_count": null,
   "metadata": {},
   "outputs": [],
   "source": []
  }
 ],
 "metadata": {
  "kernelspec": {
   "display_name": "Python 3",
   "language": "python",
   "name": "python3"
  },
  "language_info": {
   "codemirror_mode": {
    "name": "ipython",
    "version": 3
   },
   "file_extension": ".py",
   "mimetype": "text/x-python",
   "name": "python",
   "nbconvert_exporter": "python",
   "pygments_lexer": "ipython3",
   "version": "3.7.1"
  }
 },
 "nbformat": 4,
 "nbformat_minor": 2
}
